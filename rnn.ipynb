{
 "cells": [
  {
   "cell_type": "code",
   "execution_count": 5,
   "metadata": {},
   "outputs": [
    {
     "name": "stdout",
     "output_type": "stream",
     "text": [
      "10\n"
     ]
    }
   ],
   "source": [
    "import numpy as np\n",
    "\n",
    "def sigmoid(x):\n",
    "    return 1.0 / (1.0 + np.exp(-x))\n",
    "\n",
    "def sigmoid_derivative(x):\n",
    "    return x * (1.0 - x)\n",
    "\n",
    "class RNN:\n",
    "    def __init__(self, input_size, hidden_size, output_size):\n",
    "        self.input_size = input_size\n",
    "        self.hidden_size = hidden_size\n",
    "        self.output_size = output_size\n",
    "\n",
    "        self.W_ih = np.random.randn(hidden_size, input_size)\n",
    "        self.W_hh = np.random.randn(hidden_size, hidden_size)\n",
    "        self.W_ho = np.random.randn(output_size, hidden_size)\n",
    "\n",
    "        self.b_ih = np.zeros((hidden_size, 1))\n",
    "        self.b_hh = np.zeros((hidden_size, 1))\n",
    "        self.b_ho = np.zeros((output_size, 1))\n",
    "\n",
    "    def forward(self, inputs):\n",
    "        self.hidden_state = np.zeros((self.hidden_size, 1))\n",
    "        outputs = []\n",
    "        for input_ in inputs:\n",
    "            self.hidden_state = sigmoid(np.dot(self.W_ih, input_) + np.dot(self.W_hh, self.hidden_state) + self.b_ih + self.b_hh)\n",
    "            output = sigmoid(np.dot(self.W_ho, self.hidden_state) + self.b_ho)\n",
    "            outputs.append(output)\n",
    "\n",
    "        return outputs\n",
    "\n",
    "input_size = 10\n",
    "hidden_size = 20\n",
    "output_size = 10\n",
    "\n",
    "rnn = RNN(input_size, hidden_size, output_size)\n",
    "\n",
    "inputs = [np.random.randn(input_size, 1) for _ in range(10)]\n",
    "outputs = rnn.forward(inputs)\n",
    "\n",
    "print(len(outputs))"
   ]
  },
  {
   "cell_type": "code",
   "execution_count": 8,
   "metadata": {},
   "outputs": [
    {
     "data": {
      "text/plain": [
       "[array([[ 0.69585957],\n",
       "        [-0.9144568 ],\n",
       "        [ 2.00292169],\n",
       "        [ 1.89672759],\n",
       "        [-0.91319736],\n",
       "        [ 2.2364076 ],\n",
       "        [-1.57323773],\n",
       "        [ 0.62326776],\n",
       "        [ 1.01758542],\n",
       "        [ 0.71846983]]),\n",
       " array([[-0.3007722 ],\n",
       "        [ 0.67070284],\n",
       "        [-0.76615762],\n",
       "        [-0.50368757],\n",
       "        [-1.3590563 ],\n",
       "        [ 0.22743256],\n",
       "        [-0.17107067],\n",
       "        [-0.3858382 ],\n",
       "        [ 0.1917242 ],\n",
       "        [-0.19955996]])]"
      ]
     },
     "execution_count": 8,
     "metadata": {},
     "output_type": "execute_result"
    }
   ],
   "source": [
    "inputs = [np.random.randn(input_size, 1) for _ in range(2)]\n",
    "inputs"
   ]
  },
  {
   "cell_type": "code",
   "execution_count": 1,
   "metadata": {},
   "outputs": [
    {
     "name": "stdout",
     "output_type": "stream",
     "text": [
      "Saídas previstas após o treinamento:\n",
      "[[0.12968206]\n",
      " [0.88368083]\n",
      " [0.88549963]\n",
      " [0.10882199]]\n"
     ]
    }
   ],
   "source": [
    "import numpy as np\n",
    "\n",
    "# Função de ativação sigmoid\n",
    "def sigmoid(x):\n",
    "    return 1 / (1 + np.exp(-x))\n",
    "\n",
    "# Derivada da função de ativação sigmoid\n",
    "def sigmoid_derivative(x):\n",
    "    return x * (1 - x)\n",
    "\n",
    "# Dados de entrada e saída\n",
    "inputs = np.array([[0, 0], [0, 1], [1, 0], [1, 1]])  # Entradas\n",
    "outputs = np.array([[0], [1], [1], [0]])  # Saídas esperadas\n",
    "\n",
    "# Parâmetros da rede\n",
    "input_size = 2\n",
    "hidden_size = 4\n",
    "output_size = 1\n",
    "learning_rate = 0.1\n",
    "\n",
    "# Inicialização dos pesos\n",
    "weights_input_hidden = np.random.uniform(size=(input_size, hidden_size))\n",
    "weights_hidden_output = np.random.uniform(size=(hidden_size, output_size))\n",
    "\n",
    "# Treinamento da RNN Vanilla com backpropagation\n",
    "for epoch in range(10000):\n",
    "    # Forward Propagation\n",
    "    hidden_layer_input = np.dot(inputs, weights_input_hidden)\n",
    "    hidden_layer_output = sigmoid(hidden_layer_input)\n",
    "    output_layer_input = np.dot(hidden_layer_output, weights_hidden_output)\n",
    "    predicted_output = sigmoid(output_layer_input)\n",
    "\n",
    "    # Cálculo do erro\n",
    "    error = outputs - predicted_output\n",
    "\n",
    "    # Backpropagation\n",
    "    # Calculando gradientes\n",
    "    output_error = error * sigmoid_derivative(predicted_output)\n",
    "    hidden_layer_error = output_error.dot(weights_hidden_output.T) * sigmoid_derivative(hidden_layer_output)\n",
    "\n",
    "    # Atualizando pesos usando gradientes calculados\n",
    "    weights_hidden_output += hidden_layer_output.T.dot(output_error) * learning_rate\n",
    "    weights_input_hidden += inputs.T.dot(hidden_layer_error) * learning_rate\n",
    "\n",
    "# Testando a RNN treinada\n",
    "new_inputs = np.array([[0, 0], [0, 1], [1, 0], [1, 1]])\n",
    "hidden_layer_input = np.dot(new_inputs, weights_input_hidden)\n",
    "hidden_layer_output = sigmoid(hidden_layer_input)\n",
    "output_layer_input = np.dot(hidden_layer_output, weights_hidden_output)\n",
    "predicted_output = sigmoid(output_layer_input)\n",
    "\n",
    "print(\"Saídas previstas após o treinamento:\")\n",
    "print(predicted_output)\n"
   ]
  },
  {
   "cell_type": "code",
   "execution_count": null,
   "metadata": {},
   "outputs": [],
   "source": []
  }
 ],
 "metadata": {
  "kernelspec": {
   "display_name": "tensorflow",
   "language": "python",
   "name": "python3"
  },
  "language_info": {
   "codemirror_mode": {
    "name": "ipython",
    "version": 3
   },
   "file_extension": ".py",
   "mimetype": "text/x-python",
   "name": "python",
   "nbconvert_exporter": "python",
   "pygments_lexer": "ipython3",
   "version": "3.9.15"
  },
  "orig_nbformat": 4
 },
 "nbformat": 4,
 "nbformat_minor": 2
}
