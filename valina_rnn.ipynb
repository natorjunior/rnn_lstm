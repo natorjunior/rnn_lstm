{
 "cells": [
  {
   "cell_type": "code",
   "execution_count": 1,
   "metadata": {},
   "outputs": [],
   "source": [
    "import numpy as np\n",
    "import random\n",
    "from RNN_class import RNN_VANILA\n",
    "from dados import train_data, test_data,criando_as_entradas"
   ]
  },
  {
   "cell_type": "markdown",
   "metadata": {},
   "source": []
  },
  {
   "cell_type": "code",
   "execution_count": 2,
   "metadata": {},
   "outputs": [
    {
     "data": {
      "text/plain": [
       "22"
      ]
     },
     "execution_count": 2,
     "metadata": {},
     "output_type": "execute_result"
    }
   ],
   "source": [
    "items = list(test_data.items())\n",
    "random.shuffle(items)\n",
    "x_test, y_test = [],[]\n",
    "for x, y in items:\n",
    "    inputs,vocab_size = criando_as_entradas(x)\n",
    "    target = int(y)\n",
    "    x_test.append(inputs)\n",
    "    y_test.append(target)\n",
    "vocab_size"
   ]
  },
  {
   "cell_type": "code",
   "execution_count": 3,
   "metadata": {},
   "outputs": [],
   "source": [
    "items = list(train_data.items())\n",
    "random.shuffle(items)\n",
    "x_train, y_train = [],[]\n",
    "for x, y in items:\n",
    "    inputs,vocab_size = criando_as_entradas(x)\n",
    "    target = int(y)\n",
    "    x_train.append(inputs)\n",
    "    y_train.append(target)"
   ]
  },
  {
   "cell_type": "code",
   "execution_count": 4,
   "metadata": {},
   "outputs": [
    {
     "name": "stdout",
     "output_type": "stream",
     "text": [
      "--- Epoch 1\n",
      "Train:\tLoss 0.695 | Accuracy: 0.466\n",
      "--- Epoch 51\n",
      "Train:\tLoss 0.692 | Accuracy: 0.552\n",
      "--- Epoch 101\n",
      "Train:\tLoss 0.687 | Accuracy: 0.534\n",
      "--- Epoch 151\n",
      "Train:\tLoss 0.685 | Accuracy: 0.586\n",
      "--- Epoch 201\n",
      "Train:\tLoss 0.684 | Accuracy: 0.569\n",
      "--- Epoch 251\n",
      "Train:\tLoss 0.679 | Accuracy: 0.569\n",
      "--- Epoch 301\n",
      "Train:\tLoss 0.664 | Accuracy: 0.552\n",
      "--- Epoch 351\n",
      "Train:\tLoss 0.629 | Accuracy: 0.690\n",
      "--- Epoch 401\n",
      "Train:\tLoss 0.182 | Accuracy: 0.966\n",
      "--- Epoch 451\n",
      "Train:\tLoss 0.049 | Accuracy: 1.000\n"
     ]
    }
   ],
   "source": [
    "tamanho_da_entrada, tamanho_da_saida, tamaho_da_camada_oculta=22,2,64\n",
    "model = RNN_VANILA(tamanho_da_entrada, tamanho_da_saida, tamaho_da_camada_oculta)\n",
    "model.fit(x_train,y_train)"
   ]
  },
  {
   "cell_type": "code",
   "execution_count": 5,
   "metadata": {},
   "outputs": [],
   "source": [
    "y_preds = []\n",
    "y_true = []\n",
    "for x,y in zip(x_test,y_test):\n",
    "    y_pred = model.predict(x)\n",
    "    y_preds.append(np.argmax(y_pred))\n",
    "    y_true.append(y)"
   ]
  },
  {
   "cell_type": "code",
   "execution_count": 6,
   "metadata": {},
   "outputs": [
    {
     "data": {
      "text/plain": [
       "([0, 1, 1, 0, 1, 1, 1, 1, 0, 0, 0, 1, 1, 0, 1, 0, 0, 1, 0, 1],\n",
       " [0, 1, 1, 0, 1, 0, 1, 1, 0, 0, 0, 1, 1, 0, 1, 0, 0, 1, 0, 1])"
      ]
     },
     "execution_count": 6,
     "metadata": {},
     "output_type": "execute_result"
    }
   ],
   "source": [
    "y_preds,y_true"
   ]
  },
  {
   "cell_type": "code",
   "execution_count": 9,
   "metadata": {},
   "outputs": [
    {
     "data": {
      "text/plain": [
       "0"
      ]
     },
     "execution_count": 9,
     "metadata": {},
     "output_type": "execute_result"
    }
   ],
   "source": [
    "y_train[0]"
   ]
  },
  {
   "cell_type": "code",
   "execution_count": null,
   "metadata": {},
   "outputs": [],
   "source": []
  }
 ],
 "metadata": {
  "kernelspec": {
   "display_name": "tensorflow",
   "language": "python",
   "name": "python3"
  },
  "language_info": {
   "codemirror_mode": {
    "name": "ipython",
    "version": 3
   },
   "file_extension": ".py",
   "mimetype": "text/x-python",
   "name": "python",
   "nbconvert_exporter": "python",
   "pygments_lexer": "ipython3",
   "version": "3.9.15"
  },
  "orig_nbformat": 4
 },
 "nbformat": 4,
 "nbformat_minor": 2
}
