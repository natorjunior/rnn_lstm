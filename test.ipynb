{
 "cells": [
  {
   "cell_type": "code",
   "execution_count": 3,
   "metadata": {},
   "outputs": [],
   "source": [
    "import numpy as np\n",
    "from numpy.random import randn"
   ]
  },
  {
   "cell_type": "markdown",
   "metadata": {},
   "source": [
    "$$\n",
    "h_{t} = tanh(W_{hh}*h_{t-1} + W_{xh}*x_{t})\n",
    "$$\n",
    "$W_{hh}$ -> pesos da camada escondida recorrente\n",
    "\n",
    "$W_{xh}$ -> pesos da camada escondida de entrada\n",
    "\n",
    "$X_{t}$ - > Entrada atual\n",
    "\n",
    "$h_{t}$ - > Estado atual "
   ]
  },
  {
   "cell_type": "code",
   "execution_count": 37,
   "metadata": {},
   "outputs": [],
   "source": [
    "# Tamanho do vocabulário\n",
    "vocab_size = 8 \n",
    "input_size = vocab_size\n",
    "hidden_size = 4\n",
    "output_size = 1\n",
    "\n",
    "# Pesos\n",
    "Whh = randn(hidden_size, hidden_size) \n",
    "Wxh = randn(hidden_size, 3) \n",
    "Why = randn(output_size, hidden_size)"
   ]
  },
  {
   "cell_type": "code",
   "execution_count": 53,
   "metadata": {},
   "outputs": [
    {
     "ename": "NameError",
     "evalue": "name 'x' is not defined",
     "output_type": "error",
     "traceback": [
      "\u001b[0;31m---------------------------------------------------------------------------\u001b[0m",
      "\u001b[0;31mNameError\u001b[0m                                 Traceback (most recent call last)",
      "Cell \u001b[0;32mIn[53], line 1\u001b[0m\n\u001b[0;32m----> 1\u001b[0m h \u001b[39m=\u001b[39m np\u001b[39m.\u001b[39mtanh(np\u001b[39m.\u001b[39mdot(Wxh, x) \u001b[39m+\u001b[39m np\u001b[39m.\u001b[39mdot(Whh, h_prev) \u001b[39m+\u001b[39m bh)\n",
      "\u001b[0;31mNameError\u001b[0m: name 'x' is not defined"
     ]
    }
   ],
   "source": [
    "h = np.tanh(np.dot(Wxh, x) + np.dot(Whh, h_prev) + bh)\n"
   ]
  },
  {
   "cell_type": "code",
   "execution_count": 46,
   "metadata": {},
   "outputs": [
    {
     "data": {
      "application/vnd.plotly.v1+json": {
       "config": {
        "plotlyServerURL": "https://plot.ly"
       },
       "data": [
        {
         "colorscale": [
          [
           0,
           "#440154"
          ],
          [
           0.1111111111111111,
           "#482878"
          ],
          [
           0.2222222222222222,
           "#3e4989"
          ],
          [
           0.3333333333333333,
           "#31688e"
          ],
          [
           0.4444444444444444,
           "#26828e"
          ],
          [
           0.5555555555555556,
           "#1f9e89"
          ],
          [
           0.6666666666666666,
           "#35b779"
          ],
          [
           0.7777777777777778,
           "#6ece58"
          ],
          [
           0.8888888888888888,
           "#b5de2b"
          ],
          [
           1,
           "#fde725"
          ]
         ],
         "reversescale": false,
         "showscale": false,
         "type": "heatmap",
         "x": [
          "x_1",
          "x_2",
          "x_3"
         ],
         "y": [
          "w_1",
          "w_2",
          "w_3",
          "w_4"
         ],
         "z": [
          [
           -2.0257486311836215,
           -0.350887617201725,
           0.4006673796676415
          ],
          [
           -1.512594486802488,
           -0.3440278147468541,
           -0.030759061898471402
          ],
          [
           1.6804415696417476,
           -0.18485863290757276,
           1.1008098490819704
          ],
          [
           0.5060999169814439,
           -1.1702239190908363,
           -1.1550287352575688
          ]
         ]
        }
       ],
       "layout": {
        "annotations": [
         {
          "font": {
           "color": "#FFFFFF"
          },
          "showarrow": false,
          "text": "-2.0257486311836215",
          "x": "x_1",
          "xref": "x",
          "y": "w_1",
          "yref": "y"
         },
         {
          "font": {
           "color": "#FFFFFF"
          },
          "showarrow": false,
          "text": "-0.350887617201725",
          "x": "x_2",
          "xref": "x",
          "y": "w_1",
          "yref": "y"
         },
         {
          "font": {
           "color": "#000000"
          },
          "showarrow": false,
          "text": "0.4006673796676415",
          "x": "x_3",
          "xref": "x",
          "y": "w_1",
          "yref": "y"
         },
         {
          "font": {
           "color": "#FFFFFF"
          },
          "showarrow": false,
          "text": "-1.512594486802488",
          "x": "x_1",
          "xref": "x",
          "y": "w_2",
          "yref": "y"
         },
         {
          "font": {
           "color": "#FFFFFF"
          },
          "showarrow": false,
          "text": "-0.3440278147468541",
          "x": "x_2",
          "xref": "x",
          "y": "w_2",
          "yref": "y"
         },
         {
          "font": {
           "color": "#000000"
          },
          "showarrow": false,
          "text": "-0.030759061898471402",
          "x": "x_3",
          "xref": "x",
          "y": "w_2",
          "yref": "y"
         },
         {
          "font": {
           "color": "#000000"
          },
          "showarrow": false,
          "text": "1.6804415696417476",
          "x": "x_1",
          "xref": "x",
          "y": "w_3",
          "yref": "y"
         },
         {
          "font": {
           "color": "#FFFFFF"
          },
          "showarrow": false,
          "text": "-0.18485863290757276",
          "x": "x_2",
          "xref": "x",
          "y": "w_3",
          "yref": "y"
         },
         {
          "font": {
           "color": "#000000"
          },
          "showarrow": false,
          "text": "1.1008098490819704",
          "x": "x_3",
          "xref": "x",
          "y": "w_3",
          "yref": "y"
         },
         {
          "font": {
           "color": "#000000"
          },
          "showarrow": false,
          "text": "0.5060999169814439",
          "x": "x_1",
          "xref": "x",
          "y": "w_4",
          "yref": "y"
         },
         {
          "font": {
           "color": "#FFFFFF"
          },
          "showarrow": false,
          "text": "-1.1702239190908363",
          "x": "x_2",
          "xref": "x",
          "y": "w_4",
          "yref": "y"
         },
         {
          "font": {
           "color": "#FFFFFF"
          },
          "showarrow": false,
          "text": "-1.1550287352575688",
          "x": "x_3",
          "xref": "x",
          "y": "w_4",
          "yref": "y"
         }
        ],
        "margin": {
         "b": 50,
         "l": 50,
         "r": 50,
         "t": 100
        },
        "template": {
         "data": {
          "bar": [
           {
            "error_x": {
             "color": "#2a3f5f"
            },
            "error_y": {
             "color": "#2a3f5f"
            },
            "marker": {
             "line": {
              "color": "#E5ECF6",
              "width": 0.5
             },
             "pattern": {
              "fillmode": "overlay",
              "size": 10,
              "solidity": 0.2
             }
            },
            "type": "bar"
           }
          ],
          "barpolar": [
           {
            "marker": {
             "line": {
              "color": "#E5ECF6",
              "width": 0.5
             },
             "pattern": {
              "fillmode": "overlay",
              "size": 10,
              "solidity": 0.2
             }
            },
            "type": "barpolar"
           }
          ],
          "carpet": [
           {
            "aaxis": {
             "endlinecolor": "#2a3f5f",
             "gridcolor": "white",
             "linecolor": "white",
             "minorgridcolor": "white",
             "startlinecolor": "#2a3f5f"
            },
            "baxis": {
             "endlinecolor": "#2a3f5f",
             "gridcolor": "white",
             "linecolor": "white",
             "minorgridcolor": "white",
             "startlinecolor": "#2a3f5f"
            },
            "type": "carpet"
           }
          ],
          "choropleth": [
           {
            "colorbar": {
             "outlinewidth": 0,
             "ticks": ""
            },
            "type": "choropleth"
           }
          ],
          "contour": [
           {
            "colorbar": {
             "outlinewidth": 0,
             "ticks": ""
            },
            "colorscale": [
             [
              0,
              "#0d0887"
             ],
             [
              0.1111111111111111,
              "#46039f"
             ],
             [
              0.2222222222222222,
              "#7201a8"
             ],
             [
              0.3333333333333333,
              "#9c179e"
             ],
             [
              0.4444444444444444,
              "#bd3786"
             ],
             [
              0.5555555555555556,
              "#d8576b"
             ],
             [
              0.6666666666666666,
              "#ed7953"
             ],
             [
              0.7777777777777778,
              "#fb9f3a"
             ],
             [
              0.8888888888888888,
              "#fdca26"
             ],
             [
              1,
              "#f0f921"
             ]
            ],
            "type": "contour"
           }
          ],
          "contourcarpet": [
           {
            "colorbar": {
             "outlinewidth": 0,
             "ticks": ""
            },
            "type": "contourcarpet"
           }
          ],
          "heatmap": [
           {
            "colorbar": {
             "outlinewidth": 0,
             "ticks": ""
            },
            "colorscale": [
             [
              0,
              "#0d0887"
             ],
             [
              0.1111111111111111,
              "#46039f"
             ],
             [
              0.2222222222222222,
              "#7201a8"
             ],
             [
              0.3333333333333333,
              "#9c179e"
             ],
             [
              0.4444444444444444,
              "#bd3786"
             ],
             [
              0.5555555555555556,
              "#d8576b"
             ],
             [
              0.6666666666666666,
              "#ed7953"
             ],
             [
              0.7777777777777778,
              "#fb9f3a"
             ],
             [
              0.8888888888888888,
              "#fdca26"
             ],
             [
              1,
              "#f0f921"
             ]
            ],
            "type": "heatmap"
           }
          ],
          "heatmapgl": [
           {
            "colorbar": {
             "outlinewidth": 0,
             "ticks": ""
            },
            "colorscale": [
             [
              0,
              "#0d0887"
             ],
             [
              0.1111111111111111,
              "#46039f"
             ],
             [
              0.2222222222222222,
              "#7201a8"
             ],
             [
              0.3333333333333333,
              "#9c179e"
             ],
             [
              0.4444444444444444,
              "#bd3786"
             ],
             [
              0.5555555555555556,
              "#d8576b"
             ],
             [
              0.6666666666666666,
              "#ed7953"
             ],
             [
              0.7777777777777778,
              "#fb9f3a"
             ],
             [
              0.8888888888888888,
              "#fdca26"
             ],
             [
              1,
              "#f0f921"
             ]
            ],
            "type": "heatmapgl"
           }
          ],
          "histogram": [
           {
            "marker": {
             "pattern": {
              "fillmode": "overlay",
              "size": 10,
              "solidity": 0.2
             }
            },
            "type": "histogram"
           }
          ],
          "histogram2d": [
           {
            "colorbar": {
             "outlinewidth": 0,
             "ticks": ""
            },
            "colorscale": [
             [
              0,
              "#0d0887"
             ],
             [
              0.1111111111111111,
              "#46039f"
             ],
             [
              0.2222222222222222,
              "#7201a8"
             ],
             [
              0.3333333333333333,
              "#9c179e"
             ],
             [
              0.4444444444444444,
              "#bd3786"
             ],
             [
              0.5555555555555556,
              "#d8576b"
             ],
             [
              0.6666666666666666,
              "#ed7953"
             ],
             [
              0.7777777777777778,
              "#fb9f3a"
             ],
             [
              0.8888888888888888,
              "#fdca26"
             ],
             [
              1,
              "#f0f921"
             ]
            ],
            "type": "histogram2d"
           }
          ],
          "histogram2dcontour": [
           {
            "colorbar": {
             "outlinewidth": 0,
             "ticks": ""
            },
            "colorscale": [
             [
              0,
              "#0d0887"
             ],
             [
              0.1111111111111111,
              "#46039f"
             ],
             [
              0.2222222222222222,
              "#7201a8"
             ],
             [
              0.3333333333333333,
              "#9c179e"
             ],
             [
              0.4444444444444444,
              "#bd3786"
             ],
             [
              0.5555555555555556,
              "#d8576b"
             ],
             [
              0.6666666666666666,
              "#ed7953"
             ],
             [
              0.7777777777777778,
              "#fb9f3a"
             ],
             [
              0.8888888888888888,
              "#fdca26"
             ],
             [
              1,
              "#f0f921"
             ]
            ],
            "type": "histogram2dcontour"
           }
          ],
          "mesh3d": [
           {
            "colorbar": {
             "outlinewidth": 0,
             "ticks": ""
            },
            "type": "mesh3d"
           }
          ],
          "parcoords": [
           {
            "line": {
             "colorbar": {
              "outlinewidth": 0,
              "ticks": ""
             }
            },
            "type": "parcoords"
           }
          ],
          "pie": [
           {
            "automargin": true,
            "type": "pie"
           }
          ],
          "scatter": [
           {
            "fillpattern": {
             "fillmode": "overlay",
             "size": 10,
             "solidity": 0.2
            },
            "type": "scatter"
           }
          ],
          "scatter3d": [
           {
            "line": {
             "colorbar": {
              "outlinewidth": 0,
              "ticks": ""
             }
            },
            "marker": {
             "colorbar": {
              "outlinewidth": 0,
              "ticks": ""
             }
            },
            "type": "scatter3d"
           }
          ],
          "scattercarpet": [
           {
            "marker": {
             "colorbar": {
              "outlinewidth": 0,
              "ticks": ""
             }
            },
            "type": "scattercarpet"
           }
          ],
          "scattergeo": [
           {
            "marker": {
             "colorbar": {
              "outlinewidth": 0,
              "ticks": ""
             }
            },
            "type": "scattergeo"
           }
          ],
          "scattergl": [
           {
            "marker": {
             "colorbar": {
              "outlinewidth": 0,
              "ticks": ""
             }
            },
            "type": "scattergl"
           }
          ],
          "scattermapbox": [
           {
            "marker": {
             "colorbar": {
              "outlinewidth": 0,
              "ticks": ""
             }
            },
            "type": "scattermapbox"
           }
          ],
          "scatterpolar": [
           {
            "marker": {
             "colorbar": {
              "outlinewidth": 0,
              "ticks": ""
             }
            },
            "type": "scatterpolar"
           }
          ],
          "scatterpolargl": [
           {
            "marker": {
             "colorbar": {
              "outlinewidth": 0,
              "ticks": ""
             }
            },
            "type": "scatterpolargl"
           }
          ],
          "scatterternary": [
           {
            "marker": {
             "colorbar": {
              "outlinewidth": 0,
              "ticks": ""
             }
            },
            "type": "scatterternary"
           }
          ],
          "surface": [
           {
            "colorbar": {
             "outlinewidth": 0,
             "ticks": ""
            },
            "colorscale": [
             [
              0,
              "#0d0887"
             ],
             [
              0.1111111111111111,
              "#46039f"
             ],
             [
              0.2222222222222222,
              "#7201a8"
             ],
             [
              0.3333333333333333,
              "#9c179e"
             ],
             [
              0.4444444444444444,
              "#bd3786"
             ],
             [
              0.5555555555555556,
              "#d8576b"
             ],
             [
              0.6666666666666666,
              "#ed7953"
             ],
             [
              0.7777777777777778,
              "#fb9f3a"
             ],
             [
              0.8888888888888888,
              "#fdca26"
             ],
             [
              1,
              "#f0f921"
             ]
            ],
            "type": "surface"
           }
          ],
          "table": [
           {
            "cells": {
             "fill": {
              "color": "#EBF0F8"
             },
             "line": {
              "color": "white"
             }
            },
            "header": {
             "fill": {
              "color": "#C8D4E3"
             },
             "line": {
              "color": "white"
             }
            },
            "type": "table"
           }
          ]
         },
         "layout": {
          "annotationdefaults": {
           "arrowcolor": "#2a3f5f",
           "arrowhead": 0,
           "arrowwidth": 1
          },
          "autotypenumbers": "strict",
          "coloraxis": {
           "colorbar": {
            "outlinewidth": 0,
            "ticks": ""
           }
          },
          "colorscale": {
           "diverging": [
            [
             0,
             "#8e0152"
            ],
            [
             0.1,
             "#c51b7d"
            ],
            [
             0.2,
             "#de77ae"
            ],
            [
             0.3,
             "#f1b6da"
            ],
            [
             0.4,
             "#fde0ef"
            ],
            [
             0.5,
             "#f7f7f7"
            ],
            [
             0.6,
             "#e6f5d0"
            ],
            [
             0.7,
             "#b8e186"
            ],
            [
             0.8,
             "#7fbc41"
            ],
            [
             0.9,
             "#4d9221"
            ],
            [
             1,
             "#276419"
            ]
           ],
           "sequential": [
            [
             0,
             "#0d0887"
            ],
            [
             0.1111111111111111,
             "#46039f"
            ],
            [
             0.2222222222222222,
             "#7201a8"
            ],
            [
             0.3333333333333333,
             "#9c179e"
            ],
            [
             0.4444444444444444,
             "#bd3786"
            ],
            [
             0.5555555555555556,
             "#d8576b"
            ],
            [
             0.6666666666666666,
             "#ed7953"
            ],
            [
             0.7777777777777778,
             "#fb9f3a"
            ],
            [
             0.8888888888888888,
             "#fdca26"
            ],
            [
             1,
             "#f0f921"
            ]
           ],
           "sequentialminus": [
            [
             0,
             "#0d0887"
            ],
            [
             0.1111111111111111,
             "#46039f"
            ],
            [
             0.2222222222222222,
             "#7201a8"
            ],
            [
             0.3333333333333333,
             "#9c179e"
            ],
            [
             0.4444444444444444,
             "#bd3786"
            ],
            [
             0.5555555555555556,
             "#d8576b"
            ],
            [
             0.6666666666666666,
             "#ed7953"
            ],
            [
             0.7777777777777778,
             "#fb9f3a"
            ],
            [
             0.8888888888888888,
             "#fdca26"
            ],
            [
             1,
             "#f0f921"
            ]
           ]
          },
          "colorway": [
           "#636efa",
           "#EF553B",
           "#00cc96",
           "#ab63fa",
           "#FFA15A",
           "#19d3f3",
           "#FF6692",
           "#B6E880",
           "#FF97FF",
           "#FECB52"
          ],
          "font": {
           "color": "#2a3f5f"
          },
          "geo": {
           "bgcolor": "white",
           "lakecolor": "white",
           "landcolor": "#E5ECF6",
           "showlakes": true,
           "showland": true,
           "subunitcolor": "white"
          },
          "hoverlabel": {
           "align": "left"
          },
          "hovermode": "closest",
          "mapbox": {
           "style": "light"
          },
          "paper_bgcolor": "white",
          "plot_bgcolor": "#E5ECF6",
          "polar": {
           "angularaxis": {
            "gridcolor": "white",
            "linecolor": "white",
            "ticks": ""
           },
           "bgcolor": "#E5ECF6",
           "radialaxis": {
            "gridcolor": "white",
            "linecolor": "white",
            "ticks": ""
           }
          },
          "scene": {
           "xaxis": {
            "backgroundcolor": "#E5ECF6",
            "gridcolor": "white",
            "gridwidth": 2,
            "linecolor": "white",
            "showbackground": true,
            "ticks": "",
            "zerolinecolor": "white"
           },
           "yaxis": {
            "backgroundcolor": "#E5ECF6",
            "gridcolor": "white",
            "gridwidth": 2,
            "linecolor": "white",
            "showbackground": true,
            "ticks": "",
            "zerolinecolor": "white"
           },
           "zaxis": {
            "backgroundcolor": "#E5ECF6",
            "gridcolor": "white",
            "gridwidth": 2,
            "linecolor": "white",
            "showbackground": true,
            "ticks": "",
            "zerolinecolor": "white"
           }
          },
          "shapedefaults": {
           "line": {
            "color": "#2a3f5f"
           }
          },
          "ternary": {
           "aaxis": {
            "gridcolor": "white",
            "linecolor": "white",
            "ticks": ""
           },
           "baxis": {
            "gridcolor": "white",
            "linecolor": "white",
            "ticks": ""
           },
           "bgcolor": "#E5ECF6",
           "caxis": {
            "gridcolor": "white",
            "linecolor": "white",
            "ticks": ""
           }
          },
          "title": {
           "x": 0.05
          },
          "xaxis": {
           "automargin": true,
           "gridcolor": "white",
           "linecolor": "white",
           "ticks": "",
           "title": {
            "standoff": 15
           },
           "zerolinecolor": "white",
           "zerolinewidth": 2
          },
          "yaxis": {
           "automargin": true,
           "gridcolor": "white",
           "linecolor": "white",
           "ticks": "",
           "title": {
            "standoff": 15
           },
           "zerolinecolor": "white",
           "zerolinewidth": 2
          }
         }
        },
        "title": {
         "text": "Pesos da Rede Neural"
        },
        "xaxis": {
         "dtick": 1,
         "gridcolor": "rgb(0, 0, 0)",
         "side": "top",
         "ticks": "",
         "title": {
          "text": "Entradas"
         }
        },
        "yaxis": {
         "dtick": 1,
         "ticks": "",
         "ticksuffix": "  ",
         "title": {
          "text": "Pesos"
         }
        }
       }
      }
     },
     "metadata": {},
     "output_type": "display_data"
    }
   ],
   "source": [
    "import plotly.figure_factory as ff\n",
    "import numpy as np\n",
    "\n",
    "# Suponha que você tenha uma matriz de pesos (substitua isso pelos seus próprios dados)\n",
    "#pesos = np.random.rand(10, 10)  # Uma matriz 10x10 de pesos aleatórios para ilustração\n",
    "\n",
    "# Nomes das camadas (para o eixo x e y)\n",
    "nome_entrada = [f\"x_{i+1}\" for i in range(Wxh.shape[1])]\n",
    "nome_sainda = [f\"w_{i+1}\" for i in range(Wxh.shape[0])]\n",
    "\n",
    "# Criar um heatmap com anotações\n",
    "fig = ff.create_annotated_heatmap(z=Wxh, x=nome_entrada, y=nome_sainda, colorscale='Viridis')\n",
    "\n",
    "# Personalizar o layout do gráfico\n",
    "fig.update_layout(\n",
    "    title='Pesos da Rede Neural',\n",
    "    xaxis=dict(title='Entradas'),\n",
    "    yaxis=dict(title='Pesos'),\n",
    "    margin=dict(l=50, r=50, b=50, t=100),\n",
    ")\n",
    "\n",
    "# Mostrar o gráfico\n",
    "fig.show()\n"
   ]
  },
  {
   "cell_type": "code",
   "execution_count": 32,
   "metadata": {},
   "outputs": [
    {
     "data": {
      "text/plain": [
       "(16, 8)"
      ]
     },
     "execution_count": 32,
     "metadata": {},
     "output_type": "execute_result"
    }
   ],
   "source": [
    "Wxh.shape"
   ]
  },
  {
   "cell_type": "code",
   "execution_count": 33,
   "metadata": {},
   "outputs": [
    {
     "data": {
      "text/plain": [
       "(1, 16)"
      ]
     },
     "execution_count": 33,
     "metadata": {},
     "output_type": "execute_result"
    }
   ],
   "source": [
    "Why.shape"
   ]
  },
  {
   "cell_type": "code",
   "execution_count": null,
   "metadata": {},
   "outputs": [],
   "source": []
  },
  {
   "cell_type": "code",
   "execution_count": 8,
   "metadata": {},
   "outputs": [
    {
     "name": "stdout",
     "output_type": "stream",
     "text": [
      "Epoch 1/1000, Loss: [3.29896867]\n",
      "Epoch 2/1000, Loss: [2.69215426]\n",
      "Epoch 3/1000, Loss: [2.10628323]\n",
      "Epoch 4/1000, Loss: [1.57163185]\n",
      "Epoch 5/1000, Loss: [1.15462002]\n",
      "Epoch 6/1000, Loss: [0.92316682]\n",
      "Epoch 7/1000, Loss: [0.84699953]\n",
      "Epoch 8/1000, Loss: [0.83393523]\n",
      "Epoch 9/1000, Loss: [0.83344332]\n",
      "Epoch 10/1000, Loss: [0.8324184]\n",
      "Epoch 11/1000, Loss: [0.82926497]\n",
      "Epoch 12/1000, Loss: [0.82453426]\n",
      "Epoch 13/1000, Loss: [0.81884191]\n",
      "Epoch 14/1000, Loss: [0.81257887]\n",
      "Epoch 15/1000, Loss: [0.80595826]\n",
      "Epoch 16/1000, Loss: [0.79908735]\n",
      "Epoch 17/1000, Loss: [0.79201607]\n",
      "Epoch 18/1000, Loss: [0.78476463]\n",
      "Epoch 19/1000, Loss: [0.77733824]\n",
      "Epoch 20/1000, Loss: [0.76973475]\n",
      "Epoch 21/1000, Loss: [0.76194859]\n",
      "Epoch 22/1000, Loss: [0.75397279]\n",
      "Epoch 23/1000, Loss: [0.74580002]\n",
      "Epoch 24/1000, Loss: [0.73742319]\n",
      "Epoch 25/1000, Loss: [0.72883579]\n",
      "Epoch 26/1000, Loss: [0.72003208]\n",
      "Epoch 27/1000, Loss: [0.7110073]\n",
      "Epoch 28/1000, Loss: [0.7017578]\n",
      "Epoch 29/1000, Loss: [0.69228113]\n",
      "Epoch 30/1000, Loss: [0.68257623]\n",
      "Epoch 31/1000, Loss: [0.67264349]\n",
      "Epoch 32/1000, Loss: [0.66248491]\n",
      "Epoch 33/1000, Loss: [0.65210418]\n",
      "Epoch 34/1000, Loss: [0.64150677]\n",
      "Epoch 35/1000, Loss: [0.63070002]\n",
      "Epoch 36/1000, Loss: [0.61969317]\n",
      "Epoch 37/1000, Loss: [0.60849743]\n",
      "Epoch 38/1000, Loss: [0.59712594]\n",
      "Epoch 39/1000, Loss: [0.58559375]\n",
      "Epoch 40/1000, Loss: [0.57391777]\n",
      "Epoch 41/1000, Loss: [0.56211663]\n",
      "Epoch 42/1000, Loss: [0.55021057]\n",
      "Epoch 43/1000, Loss: [0.53822121]\n",
      "Epoch 44/1000, Loss: [0.5261714]\n",
      "Epoch 45/1000, Loss: [0.51408488]\n",
      "Epoch 46/1000, Loss: [0.5019861]\n",
      "Epoch 47/1000, Loss: [0.48989986]\n",
      "Epoch 48/1000, Loss: [0.47785103]\n",
      "Epoch 49/1000, Loss: [0.46586423]\n",
      "Epoch 50/1000, Loss: [0.45396356]\n",
      "Epoch 51/1000, Loss: [0.4421723]\n",
      "Epoch 52/1000, Loss: [0.43051263]\n",
      "Epoch 53/1000, Loss: [0.41900541]\n",
      "Epoch 54/1000, Loss: [0.40767004]\n",
      "Epoch 55/1000, Loss: [0.39652419]\n",
      "Epoch 56/1000, Loss: [0.38558379]\n",
      "Epoch 57/1000, Loss: [0.37486291]\n",
      "Epoch 58/1000, Loss: [0.3643737]\n",
      "Epoch 59/1000, Loss: [0.35412645]\n",
      "Epoch 60/1000, Loss: [0.34412955]\n",
      "Epoch 61/1000, Loss: [0.33438963]\n",
      "Epoch 62/1000, Loss: [0.32491156]\n",
      "Epoch 63/1000, Loss: [0.31569862]\n",
      "Epoch 64/1000, Loss: [0.3067526]\n",
      "Epoch 65/1000, Loss: [0.2980739]\n",
      "Epoch 66/1000, Loss: [0.2896617]\n",
      "Epoch 67/1000, Loss: [0.28151406]\n",
      "Epoch 68/1000, Loss: [0.27362808]\n",
      "Epoch 69/1000, Loss: [0.26599999]\n",
      "Epoch 70/1000, Loss: [0.25862533]\n",
      "Epoch 71/1000, Loss: [0.251499]\n",
      "Epoch 72/1000, Loss: [0.24461541]\n",
      "Epoch 73/1000, Loss: [0.23796857]\n",
      "Epoch 74/1000, Loss: [0.23155217]\n",
      "Epoch 75/1000, Loss: [0.22535965]\n",
      "Epoch 76/1000, Loss: [0.21938431]\n",
      "Epoch 77/1000, Loss: [0.21361932]\n",
      "Epoch 78/1000, Loss: [0.20805781]\n",
      "Epoch 79/1000, Loss: [0.20269293]\n",
      "Epoch 80/1000, Loss: [0.19751783]\n",
      "Epoch 81/1000, Loss: [0.19252577]\n",
      "Epoch 82/1000, Loss: [0.18771007]\n",
      "Epoch 83/1000, Loss: [0.18306422]\n",
      "Epoch 84/1000, Loss: [0.17858182]\n",
      "Epoch 85/1000, Loss: [0.17425664]\n",
      "Epoch 86/1000, Loss: [0.17008261]\n",
      "Epoch 87/1000, Loss: [0.16605386]\n",
      "Epoch 88/1000, Loss: [0.16216469]\n",
      "Epoch 89/1000, Loss: [0.15840959]\n",
      "Epoch 90/1000, Loss: [0.15478323]\n",
      "Epoch 91/1000, Loss: [0.1512805]\n",
      "Epoch 92/1000, Loss: [0.14789645]\n",
      "Epoch 93/1000, Loss: [0.14462634]\n",
      "Epoch 94/1000, Loss: [0.1414656]\n",
      "Epoch 95/1000, Loss: [0.13840985]\n",
      "Epoch 96/1000, Loss: [0.13545488]\n",
      "Epoch 97/1000, Loss: [0.13259666]\n",
      "Epoch 98/1000, Loss: [0.12983132]\n",
      "Epoch 99/1000, Loss: [0.12715516]\n",
      "Epoch 100/1000, Loss: [0.12456464]\n",
      "Epoch 101/1000, Loss: [0.12205636]\n",
      "Epoch 102/1000, Loss: [0.11962706]\n",
      "Epoch 103/1000, Loss: [0.11727364]\n",
      "Epoch 104/1000, Loss: [0.11499313]\n",
      "Epoch 105/1000, Loss: [0.11278268]\n",
      "Epoch 106/1000, Loss: [0.11063956]\n",
      "Epoch 107/1000, Loss: [0.10856118]\n",
      "Epoch 108/1000, Loss: [0.10654504]\n",
      "Epoch 109/1000, Loss: [0.10458877]\n",
      "Epoch 110/1000, Loss: [0.10269009]\n",
      "Epoch 111/1000, Loss: [0.10084681]\n",
      "Epoch 112/1000, Loss: [0.09905686]\n",
      "Epoch 113/1000, Loss: [0.09731824]\n",
      "Epoch 114/1000, Loss: [0.09562904]\n",
      "Epoch 115/1000, Loss: [0.09398745]\n",
      "Epoch 116/1000, Loss: [0.09239171]\n",
      "Epoch 117/1000, Loss: [0.09084016]\n",
      "Epoch 118/1000, Loss: [0.08933119]\n",
      "Epoch 119/1000, Loss: [0.08786328]\n",
      "Epoch 120/1000, Loss: [0.08643495]\n",
      "Epoch 121/1000, Loss: [0.08504481]\n",
      "Epoch 122/1000, Loss: [0.08369151]\n",
      "Epoch 123/1000, Loss: [0.08237376]\n",
      "Epoch 124/1000, Loss: [0.08109033]\n",
      "Epoch 125/1000, Loss: [0.07984002]\n",
      "Epoch 126/1000, Loss: [0.07862172]\n",
      "Epoch 127/1000, Loss: [0.07743432]\n",
      "Epoch 128/1000, Loss: [0.07627679]\n",
      "Epoch 129/1000, Loss: [0.07514812]\n",
      "Epoch 130/1000, Loss: [0.07404735]\n",
      "Epoch 131/1000, Loss: [0.07297357]\n",
      "Epoch 132/1000, Loss: [0.07192588]\n",
      "Epoch 133/1000, Loss: [0.07090344]\n",
      "Epoch 134/1000, Loss: [0.06990542]\n",
      "Epoch 135/1000, Loss: [0.06893105]\n",
      "Epoch 136/1000, Loss: [0.06797958]\n",
      "Epoch 137/1000, Loss: [0.06705027]\n",
      "Epoch 138/1000, Loss: [0.06614242]\n",
      "Epoch 139/1000, Loss: [0.06525538]\n",
      "Epoch 140/1000, Loss: [0.0643885]\n",
      "Epoch 141/1000, Loss: [0.06354115]\n",
      "Epoch 142/1000, Loss: [0.06271275]\n",
      "Epoch 143/1000, Loss: [0.06190271]\n",
      "Epoch 144/1000, Loss: [0.06111048]\n",
      "Epoch 145/1000, Loss: [0.06033554]\n",
      "Epoch 146/1000, Loss: [0.05957736]\n",
      "Epoch 147/1000, Loss: [0.05883546]\n",
      "Epoch 148/1000, Loss: [0.05810936]\n",
      "Epoch 149/1000, Loss: [0.0573986]\n",
      "Epoch 150/1000, Loss: [0.05670274]\n",
      "Epoch 151/1000, Loss: [0.05602135]\n",
      "Epoch 152/1000, Loss: [0.05535402]\n",
      "Epoch 153/1000, Loss: [0.05470035]\n",
      "Epoch 154/1000, Loss: [0.05405996]\n",
      "Epoch 155/1000, Loss: [0.05343249]\n",
      "Epoch 156/1000, Loss: [0.05281757]\n",
      "Epoch 157/1000, Loss: [0.05221485]\n",
      "Epoch 158/1000, Loss: [0.05162402]\n",
      "Epoch 159/1000, Loss: [0.05104474]\n",
      "Epoch 160/1000, Loss: [0.0504767]\n",
      "Epoch 161/1000, Loss: [0.0499196]\n",
      "Epoch 162/1000, Loss: [0.04937316]\n",
      "Epoch 163/1000, Loss: [0.0488371]\n",
      "Epoch 164/1000, Loss: [0.04831113]\n",
      "Epoch 165/1000, Loss: [0.047795]\n",
      "Epoch 166/1000, Loss: [0.04728846]\n",
      "Epoch 167/1000, Loss: [0.04679126]\n",
      "Epoch 168/1000, Loss: [0.04630315]\n",
      "Epoch 169/1000, Loss: [0.04582392]\n",
      "Epoch 170/1000, Loss: [0.04535334]\n",
      "Epoch 171/1000, Loss: [0.04489118]\n",
      "Epoch 172/1000, Loss: [0.04443725]\n",
      "Epoch 173/1000, Loss: [0.04399134]\n",
      "Epoch 174/1000, Loss: [0.04355325]\n",
      "Epoch 175/1000, Loss: [0.04312279]\n",
      "Epoch 176/1000, Loss: [0.04269979]\n",
      "Epoch 177/1000, Loss: [0.04228405]\n",
      "Epoch 178/1000, Loss: [0.0418754]\n",
      "Epoch 179/1000, Loss: [0.04147369]\n",
      "Epoch 180/1000, Loss: [0.04107873]\n",
      "Epoch 181/1000, Loss: [0.04069039]\n",
      "Epoch 182/1000, Loss: [0.04030849]\n",
      "Epoch 183/1000, Loss: [0.0399329]\n",
      "Epoch 184/1000, Loss: [0.03956346]\n",
      "Epoch 185/1000, Loss: [0.03920004]\n",
      "Epoch 186/1000, Loss: [0.0388425]\n",
      "Epoch 187/1000, Loss: [0.03849071]\n",
      "Epoch 188/1000, Loss: [0.03814453]\n",
      "Epoch 189/1000, Loss: [0.03780385]\n",
      "Epoch 190/1000, Loss: [0.03746854]\n",
      "Epoch 191/1000, Loss: [0.03713849]\n",
      "Epoch 192/1000, Loss: [0.03681357]\n",
      "Epoch 193/1000, Loss: [0.03649367]\n",
      "Epoch 194/1000, Loss: [0.0361787]\n",
      "Epoch 195/1000, Loss: [0.03586853]\n",
      "Epoch 196/1000, Loss: [0.03556308]\n",
      "Epoch 197/1000, Loss: [0.03526223]\n",
      "Epoch 198/1000, Loss: [0.03496589]\n",
      "Epoch 199/1000, Loss: [0.03467398]\n",
      "Epoch 200/1000, Loss: [0.03438638]\n",
      "Epoch 201/1000, Loss: [0.03410302]\n",
      "Epoch 202/1000, Loss: [0.0338238]\n",
      "Epoch 203/1000, Loss: [0.03354865]\n",
      "Epoch 204/1000, Loss: [0.03327747]\n",
      "Epoch 205/1000, Loss: [0.0330102]\n",
      "Epoch 206/1000, Loss: [0.03274674]\n",
      "Epoch 207/1000, Loss: [0.03248702]\n",
      "Epoch 208/1000, Loss: [0.03223097]\n",
      "Epoch 209/1000, Loss: [0.03197852]\n",
      "Epoch 210/1000, Loss: [0.03172959]\n",
      "Epoch 211/1000, Loss: [0.03148411]\n",
      "Epoch 212/1000, Loss: [0.03124203]\n",
      "Epoch 213/1000, Loss: [0.03100326]\n",
      "Epoch 214/1000, Loss: [0.03076775]\n",
      "Epoch 215/1000, Loss: [0.03053543]\n",
      "Epoch 216/1000, Loss: [0.03030625]\n",
      "Epoch 217/1000, Loss: [0.03008014]\n",
      "Epoch 218/1000, Loss: [0.02985705]\n",
      "Epoch 219/1000, Loss: [0.02963692]\n",
      "Epoch 220/1000, Loss: [0.02941969]\n",
      "Epoch 221/1000, Loss: [0.02920531]\n",
      "Epoch 222/1000, Loss: [0.02899373]\n",
      "Epoch 223/1000, Loss: [0.02878489]\n",
      "Epoch 224/1000, Loss: [0.02857875]\n",
      "Epoch 225/1000, Loss: [0.02837525]\n",
      "Epoch 226/1000, Loss: [0.02817435]\n",
      "Epoch 227/1000, Loss: [0.02797601]\n",
      "Epoch 228/1000, Loss: [0.02778016]\n",
      "Epoch 229/1000, Loss: [0.02758678]\n",
      "Epoch 230/1000, Loss: [0.02739582]\n",
      "Epoch 231/1000, Loss: [0.02720723]\n",
      "Epoch 232/1000, Loss: [0.02702097]\n",
      "Epoch 233/1000, Loss: [0.026837]\n",
      "Epoch 234/1000, Loss: [0.02665529]\n",
      "Epoch 235/1000, Loss: [0.02647579]\n",
      "Epoch 236/1000, Loss: [0.02629846]\n",
      "Epoch 237/1000, Loss: [0.02612327]\n",
      "Epoch 238/1000, Loss: [0.02595018]\n",
      "Epoch 239/1000, Loss: [0.02577915]\n",
      "Epoch 240/1000, Loss: [0.02561016]\n",
      "Epoch 241/1000, Loss: [0.02544316]\n",
      "Epoch 242/1000, Loss: [0.02527812]\n",
      "Epoch 243/1000, Loss: [0.02511501]\n",
      "Epoch 244/1000, Loss: [0.0249538]\n",
      "Epoch 245/1000, Loss: [0.02479446]\n",
      "Epoch 246/1000, Loss: [0.02463695]\n",
      "Epoch 247/1000, Loss: [0.02448125]\n",
      "Epoch 248/1000, Loss: [0.02432733]\n",
      "Epoch 249/1000, Loss: [0.02417515]\n",
      "Epoch 250/1000, Loss: [0.02402469]\n",
      "Epoch 251/1000, Loss: [0.02387593]\n",
      "Epoch 252/1000, Loss: [0.02372883]\n",
      "Epoch 253/1000, Loss: [0.02358336]\n",
      "Epoch 254/1000, Loss: [0.02343951]\n",
      "Epoch 255/1000, Loss: [0.02329725]\n",
      "Epoch 256/1000, Loss: [0.02315655]\n",
      "Epoch 257/1000, Loss: [0.02301738]\n",
      "Epoch 258/1000, Loss: [0.02287973]\n",
      "Epoch 259/1000, Loss: [0.02274358]\n",
      "Epoch 260/1000, Loss: [0.02260888]\n",
      "Epoch 261/1000, Loss: [0.02247564]\n",
      "Epoch 262/1000, Loss: [0.02234381]\n",
      "Epoch 263/1000, Loss: [0.02221339]\n",
      "Epoch 264/1000, Loss: [0.02208435]\n",
      "Epoch 265/1000, Loss: [0.02195666]\n",
      "Epoch 266/1000, Loss: [0.02183032]\n",
      "Epoch 267/1000, Loss: [0.02170529]\n",
      "Epoch 268/1000, Loss: [0.02158157]\n",
      "Epoch 269/1000, Loss: [0.02145912]\n",
      "Epoch 270/1000, Loss: [0.02133793]\n",
      "Epoch 271/1000, Loss: [0.02121799]\n",
      "Epoch 272/1000, Loss: [0.02109927]\n",
      "Epoch 273/1000, Loss: [0.02098176]\n",
      "Epoch 274/1000, Loss: [0.02086544]\n",
      "Epoch 275/1000, Loss: [0.02075029]\n",
      "Epoch 276/1000, Loss: [0.02063629]\n",
      "Epoch 277/1000, Loss: [0.02052344]\n",
      "Epoch 278/1000, Loss: [0.0204117]\n",
      "Epoch 279/1000, Loss: [0.02030107]\n",
      "Epoch 280/1000, Loss: [0.02019154]\n",
      "Epoch 281/1000, Loss: [0.02008308]\n",
      "Epoch 282/1000, Loss: [0.01997567]\n",
      "Epoch 283/1000, Loss: [0.01986932]\n",
      "Epoch 284/1000, Loss: [0.019764]\n",
      "Epoch 285/1000, Loss: [0.01965969]\n",
      "Epoch 286/1000, Loss: [0.01955638]\n",
      "Epoch 287/1000, Loss: [0.01945407]\n",
      "Epoch 288/1000, Loss: [0.01935273]\n",
      "Epoch 289/1000, Loss: [0.01925235]\n",
      "Epoch 290/1000, Loss: [0.01915292]\n",
      "Epoch 291/1000, Loss: [0.01905443]\n",
      "Epoch 292/1000, Loss: [0.01895686]\n",
      "Epoch 293/1000, Loss: [0.0188602]\n",
      "Epoch 294/1000, Loss: [0.01876444]\n",
      "Epoch 295/1000, Loss: [0.01866957]\n",
      "Epoch 296/1000, Loss: [0.01857558]\n",
      "Epoch 297/1000, Loss: [0.01848245]\n",
      "Epoch 298/1000, Loss: [0.01839017]\n",
      "Epoch 299/1000, Loss: [0.01829873]\n",
      "Epoch 300/1000, Loss: [0.01820812]\n",
      "Epoch 301/1000, Loss: [0.01811834]\n",
      "Epoch 302/1000, Loss: [0.01802936]\n",
      "Epoch 303/1000, Loss: [0.01794118]\n",
      "Epoch 304/1000, Loss: [0.01785379]\n",
      "Epoch 305/1000, Loss: [0.01776717]\n",
      "Epoch 306/1000, Loss: [0.01768133]\n",
      "Epoch 307/1000, Loss: [0.01759624]\n",
      "Epoch 308/1000, Loss: [0.0175119]\n",
      "Epoch 309/1000, Loss: [0.01742831]\n",
      "Epoch 310/1000, Loss: [0.01734544]\n",
      "Epoch 311/1000, Loss: [0.01726329]\n",
      "Epoch 312/1000, Loss: [0.01718186]\n",
      "Epoch 313/1000, Loss: [0.01710113]\n",
      "Epoch 314/1000, Loss: [0.01702109]\n",
      "Epoch 315/1000, Loss: [0.01694174]\n",
      "Epoch 316/1000, Loss: [0.01686307]\n",
      "Epoch 317/1000, Loss: [0.01678506]\n",
      "Epoch 318/1000, Loss: [0.01670772]\n",
      "Epoch 319/1000, Loss: [0.01663103]\n",
      "Epoch 320/1000, Loss: [0.01655499]\n",
      "Epoch 321/1000, Loss: [0.01647958]\n",
      "Epoch 322/1000, Loss: [0.0164048]\n",
      "Epoch 323/1000, Loss: [0.01633065]\n",
      "Epoch 324/1000, Loss: [0.01625711]\n",
      "Epoch 325/1000, Loss: [0.01618417]\n",
      "Epoch 326/1000, Loss: [0.01611184]\n",
      "Epoch 327/1000, Loss: [0.0160401]\n",
      "Epoch 328/1000, Loss: [0.01596895]\n",
      "Epoch 329/1000, Loss: [0.01589837]\n",
      "Epoch 330/1000, Loss: [0.01582837]\n",
      "Epoch 331/1000, Loss: [0.01575894]\n",
      "Epoch 332/1000, Loss: [0.01569006]\n",
      "Epoch 333/1000, Loss: [0.01562174]\n",
      "Epoch 334/1000, Loss: [0.01555396]\n",
      "Epoch 335/1000, Loss: [0.01548672]\n",
      "Epoch 336/1000, Loss: [0.01542002]\n",
      "Epoch 337/1000, Loss: [0.01535385]\n",
      "Epoch 338/1000, Loss: [0.01528819]\n",
      "Epoch 339/1000, Loss: [0.01522306]\n",
      "Epoch 340/1000, Loss: [0.01515843]\n",
      "Epoch 341/1000, Loss: [0.01509431]\n",
      "Epoch 342/1000, Loss: [0.01503068]\n",
      "Epoch 343/1000, Loss: [0.01496755]\n",
      "Epoch 344/1000, Loss: [0.01490491]\n",
      "Epoch 345/1000, Loss: [0.01484275]\n",
      "Epoch 346/1000, Loss: [0.01478107]\n",
      "Epoch 347/1000, Loss: [0.01471986]\n",
      "Epoch 348/1000, Loss: [0.01465911]\n",
      "Epoch 349/1000, Loss: [0.01459883]\n",
      "Epoch 350/1000, Loss: [0.014539]\n",
      "Epoch 351/1000, Loss: [0.01447962]\n",
      "Epoch 352/1000, Loss: [0.0144207]\n",
      "Epoch 353/1000, Loss: [0.01436221]\n",
      "Epoch 354/1000, Loss: [0.01430416]\n",
      "Epoch 355/1000, Loss: [0.01424654]\n",
      "Epoch 356/1000, Loss: [0.01418935]\n",
      "Epoch 357/1000, Loss: [0.01413258]\n",
      "Epoch 358/1000, Loss: [0.01407623]\n",
      "Epoch 359/1000, Loss: [0.0140203]\n",
      "Epoch 360/1000, Loss: [0.01396477]\n",
      "Epoch 361/1000, Loss: [0.01390965]\n",
      "Epoch 362/1000, Loss: [0.01385493]\n",
      "Epoch 363/1000, Loss: [0.01380061]\n",
      "Epoch 364/1000, Loss: [0.01374668]\n",
      "Epoch 365/1000, Loss: [0.01369314]\n",
      "Epoch 366/1000, Loss: [0.01363998]\n",
      "Epoch 367/1000, Loss: [0.01358721]\n",
      "Epoch 368/1000, Loss: [0.01353481]\n",
      "Epoch 369/1000, Loss: [0.01348279]\n",
      "Epoch 370/1000, Loss: [0.01343113]\n",
      "Epoch 371/1000, Loss: [0.01337984]\n",
      "Epoch 372/1000, Loss: [0.01332891]\n",
      "Epoch 373/1000, Loss: [0.01327834]\n",
      "Epoch 374/1000, Loss: [0.01322812]\n",
      "Epoch 375/1000, Loss: [0.01317825]\n",
      "Epoch 376/1000, Loss: [0.01312873]\n",
      "Epoch 377/1000, Loss: [0.01307956]\n",
      "Epoch 378/1000, Loss: [0.01303072]\n",
      "Epoch 379/1000, Loss: [0.01298222]\n",
      "Epoch 380/1000, Loss: [0.01293406]\n",
      "Epoch 381/1000, Loss: [0.01288622]\n",
      "Epoch 382/1000, Loss: [0.01283872]\n",
      "Epoch 383/1000, Loss: [0.01279153]\n",
      "Epoch 384/1000, Loss: [0.01274467]\n",
      "Epoch 385/1000, Loss: [0.01269812]\n",
      "Epoch 386/1000, Loss: [0.01265189]\n",
      "Epoch 387/1000, Loss: [0.01260597]\n",
      "Epoch 388/1000, Loss: [0.01256036]\n",
      "Epoch 389/1000, Loss: [0.01251505]\n",
      "Epoch 390/1000, Loss: [0.01247005]\n",
      "Epoch 391/1000, Loss: [0.01242534]\n",
      "Epoch 392/1000, Loss: [0.01238093]\n",
      "Epoch 393/1000, Loss: [0.01233682]\n",
      "Epoch 394/1000, Loss: [0.01229299]\n",
      "Epoch 395/1000, Loss: [0.01224946]\n",
      "Epoch 396/1000, Loss: [0.01220621]\n",
      "Epoch 397/1000, Loss: [0.01216324]\n",
      "Epoch 398/1000, Loss: [0.01212055]\n",
      "Epoch 399/1000, Loss: [0.01207814]\n",
      "Epoch 400/1000, Loss: [0.01203601]\n",
      "Epoch 401/1000, Loss: [0.01199414]\n",
      "Epoch 402/1000, Loss: [0.01195255]\n",
      "Epoch 403/1000, Loss: [0.01191122]\n",
      "Epoch 404/1000, Loss: [0.01187016]\n",
      "Epoch 405/1000, Loss: [0.01182936]\n",
      "Epoch 406/1000, Loss: [0.01178882]\n",
      "Epoch 407/1000, Loss: [0.01174854]\n",
      "Epoch 408/1000, Loss: [0.01170851]\n",
      "Epoch 409/1000, Loss: [0.01166874]\n",
      "Epoch 410/1000, Loss: [0.01162921]\n",
      "Epoch 411/1000, Loss: [0.01158994]\n",
      "Epoch 412/1000, Loss: [0.01155091]\n",
      "Epoch 413/1000, Loss: [0.01151212]\n",
      "Epoch 414/1000, Loss: [0.01147358]\n",
      "Epoch 415/1000, Loss: [0.01143527]\n",
      "Epoch 416/1000, Loss: [0.0113972]\n",
      "Epoch 417/1000, Loss: [0.01135937]\n",
      "Epoch 418/1000, Loss: [0.01132177]\n",
      "Epoch 419/1000, Loss: [0.0112844]\n",
      "Epoch 420/1000, Loss: [0.01124726]\n",
      "Epoch 421/1000, Loss: [0.01121035]\n",
      "Epoch 422/1000, Loss: [0.01117366]\n",
      "Epoch 423/1000, Loss: [0.0111372]\n",
      "Epoch 424/1000, Loss: [0.01110095]\n",
      "Epoch 425/1000, Loss: [0.01106492]\n",
      "Epoch 426/1000, Loss: [0.01102912]\n",
      "Epoch 427/1000, Loss: [0.01099352]\n",
      "Epoch 428/1000, Loss: [0.01095814]\n",
      "Epoch 429/1000, Loss: [0.01092297]\n",
      "Epoch 430/1000, Loss: [0.01088801]\n",
      "Epoch 431/1000, Loss: [0.01085326]\n",
      "Epoch 432/1000, Loss: [0.01081872]\n",
      "Epoch 433/1000, Loss: [0.01078438]\n",
      "Epoch 434/1000, Loss: [0.01075024]\n",
      "Epoch 435/1000, Loss: [0.0107163]\n",
      "Epoch 436/1000, Loss: [0.01068256]\n",
      "Epoch 437/1000, Loss: [0.01064902]\n",
      "Epoch 438/1000, Loss: [0.01061568]\n",
      "Epoch 439/1000, Loss: [0.01058252]\n",
      "Epoch 440/1000, Loss: [0.01054956]\n",
      "Epoch 441/1000, Loss: [0.0105168]\n",
      "Epoch 442/1000, Loss: [0.01048422]\n",
      "Epoch 443/1000, Loss: [0.01045183]\n",
      "Epoch 444/1000, Loss: [0.01041962]\n",
      "Epoch 445/1000, Loss: [0.0103876]\n",
      "Epoch 446/1000, Loss: [0.01035576]\n",
      "Epoch 447/1000, Loss: [0.01032411]\n",
      "Epoch 448/1000, Loss: [0.01029263]\n",
      "Epoch 449/1000, Loss: [0.01026133]\n",
      "Epoch 450/1000, Loss: [0.01023021]\n",
      "Epoch 451/1000, Loss: [0.01019927]\n",
      "Epoch 452/1000, Loss: [0.0101685]\n",
      "Epoch 453/1000, Loss: [0.0101379]\n",
      "Epoch 454/1000, Loss: [0.01010747]\n",
      "Epoch 455/1000, Loss: [0.01007722]\n",
      "Epoch 456/1000, Loss: [0.01004713]\n",
      "Epoch 457/1000, Loss: [0.01001721]\n",
      "Epoch 458/1000, Loss: [0.00998745]\n",
      "Epoch 459/1000, Loss: [0.00995786]\n",
      "Epoch 460/1000, Loss: [0.00992843]\n",
      "Epoch 461/1000, Loss: [0.00989917]\n",
      "Epoch 462/1000, Loss: [0.00987007]\n",
      "Epoch 463/1000, Loss: [0.00984112]\n",
      "Epoch 464/1000, Loss: [0.00981233]\n",
      "Epoch 465/1000, Loss: [0.0097837]\n",
      "Epoch 466/1000, Loss: [0.00975523]\n",
      "Epoch 467/1000, Loss: [0.00972691]\n",
      "Epoch 468/1000, Loss: [0.00969874]\n",
      "Epoch 469/1000, Loss: [0.00967073]\n",
      "Epoch 470/1000, Loss: [0.00964286]\n",
      "Epoch 471/1000, Loss: [0.00961515]\n",
      "Epoch 472/1000, Loss: [0.00958758]\n",
      "Epoch 473/1000, Loss: [0.00956016]\n",
      "Epoch 474/1000, Loss: [0.00953289]\n",
      "Epoch 475/1000, Loss: [0.00950576]\n",
      "Epoch 476/1000, Loss: [0.00947878]\n",
      "Epoch 477/1000, Loss: [0.00945194]\n",
      "Epoch 478/1000, Loss: [0.00942524]\n",
      "Epoch 479/1000, Loss: [0.00939868]\n",
      "Epoch 480/1000, Loss: [0.00937226]\n",
      "Epoch 481/1000, Loss: [0.00934598]\n",
      "Epoch 482/1000, Loss: [0.00931984]\n",
      "Epoch 483/1000, Loss: [0.00929383]\n",
      "Epoch 484/1000, Loss: [0.00926796]\n",
      "Epoch 485/1000, Loss: [0.00924222]\n",
      "Epoch 486/1000, Loss: [0.00921662]\n",
      "Epoch 487/1000, Loss: [0.00919115]\n",
      "Epoch 488/1000, Loss: [0.00916581]\n",
      "Epoch 489/1000, Loss: [0.0091406]\n",
      "Epoch 490/1000, Loss: [0.00911552]\n",
      "Epoch 491/1000, Loss: [0.00909057]\n",
      "Epoch 492/1000, Loss: [0.00906574]\n",
      "Epoch 493/1000, Loss: [0.00904105]\n",
      "Epoch 494/1000, Loss: [0.00901648]\n",
      "Epoch 495/1000, Loss: [0.00899203]\n",
      "Epoch 496/1000, Loss: [0.00896771]\n",
      "Epoch 497/1000, Loss: [0.0089435]\n",
      "Epoch 498/1000, Loss: [0.00891943]\n",
      "Epoch 499/1000, Loss: [0.00889547]\n",
      "Epoch 500/1000, Loss: [0.00887163]\n",
      "Epoch 501/1000, Loss: [0.00884791]\n",
      "Epoch 502/1000, Loss: [0.00882431]\n",
      "Epoch 503/1000, Loss: [0.00880083]\n",
      "Epoch 504/1000, Loss: [0.00877747]\n",
      "Epoch 505/1000, Loss: [0.00875422]\n",
      "Epoch 506/1000, Loss: [0.00873108]\n",
      "Epoch 507/1000, Loss: [0.00870806]\n",
      "Epoch 508/1000, Loss: [0.00868516]\n",
      "Epoch 509/1000, Loss: [0.00866236]\n",
      "Epoch 510/1000, Loss: [0.00863968]\n",
      "Epoch 511/1000, Loss: [0.00861711]\n",
      "Epoch 512/1000, Loss: [0.00859465]\n",
      "Epoch 513/1000, Loss: [0.0085723]\n",
      "Epoch 514/1000, Loss: [0.00855005]\n",
      "Epoch 515/1000, Loss: [0.00852792]\n",
      "Epoch 516/1000, Loss: [0.00850589]\n",
      "Epoch 517/1000, Loss: [0.00848397]\n",
      "Epoch 518/1000, Loss: [0.00846215]\n",
      "Epoch 519/1000, Loss: [0.00844044]\n",
      "Epoch 520/1000, Loss: [0.00841883]\n",
      "Epoch 521/1000, Loss: [0.00839733]\n",
      "Epoch 522/1000, Loss: [0.00837593]\n",
      "Epoch 523/1000, Loss: [0.00835463]\n",
      "Epoch 524/1000, Loss: [0.00833344]\n",
      "Epoch 525/1000, Loss: [0.00831234]\n",
      "Epoch 526/1000, Loss: [0.00829134]\n",
      "Epoch 527/1000, Loss: [0.00827044]\n",
      "Epoch 528/1000, Loss: [0.00824965]\n",
      "Epoch 529/1000, Loss: [0.00822894]\n",
      "Epoch 530/1000, Loss: [0.00820834]\n",
      "Epoch 531/1000, Loss: [0.00818783]\n",
      "Epoch 532/1000, Loss: [0.00816742]\n",
      "Epoch 533/1000, Loss: [0.00814711]\n",
      "Epoch 534/1000, Loss: [0.00812688]\n",
      "Epoch 535/1000, Loss: [0.00810676]\n",
      "Epoch 536/1000, Loss: [0.00808672]\n",
      "Epoch 537/1000, Loss: [0.00806678]\n",
      "Epoch 538/1000, Loss: [0.00804693]\n",
      "Epoch 539/1000, Loss: [0.00802717]\n",
      "Epoch 540/1000, Loss: [0.00800751]\n",
      "Epoch 541/1000, Loss: [0.00798793]\n",
      "Epoch 542/1000, Loss: [0.00796844]\n",
      "Epoch 543/1000, Loss: [0.00794904]\n",
      "Epoch 544/1000, Loss: [0.00792973]\n",
      "Epoch 545/1000, Loss: [0.00791051]\n",
      "Epoch 546/1000, Loss: [0.00789138]\n",
      "Epoch 547/1000, Loss: [0.00787233]\n",
      "Epoch 548/1000, Loss: [0.00785337]\n",
      "Epoch 549/1000, Loss: [0.00783449]\n",
      "Epoch 550/1000, Loss: [0.0078157]\n",
      "Epoch 551/1000, Loss: [0.00779699]\n",
      "Epoch 552/1000, Loss: [0.00777837]\n",
      "Epoch 553/1000, Loss: [0.00775983]\n",
      "Epoch 554/1000, Loss: [0.00774138]\n",
      "Epoch 555/1000, Loss: [0.007723]\n",
      "Epoch 556/1000, Loss: [0.00770471]\n",
      "Epoch 557/1000, Loss: [0.0076865]\n",
      "Epoch 558/1000, Loss: [0.00766837]\n",
      "Epoch 559/1000, Loss: [0.00765032]\n",
      "Epoch 560/1000, Loss: [0.00763235]\n",
      "Epoch 561/1000, Loss: [0.00761445]\n",
      "Epoch 562/1000, Loss: [0.00759664]\n",
      "Epoch 563/1000, Loss: [0.00757891]\n",
      "Epoch 564/1000, Loss: [0.00756125]\n",
      "Epoch 565/1000, Loss: [0.00754367]\n",
      "Epoch 566/1000, Loss: [0.00752616]\n",
      "Epoch 567/1000, Loss: [0.00750874]\n",
      "Epoch 568/1000, Loss: [0.00749139]\n",
      "Epoch 569/1000, Loss: [0.00747411]\n",
      "Epoch 570/1000, Loss: [0.00745691]\n",
      "Epoch 571/1000, Loss: [0.00743978]\n",
      "Epoch 572/1000, Loss: [0.00742273]\n",
      "Epoch 573/1000, Loss: [0.00740575]\n",
      "Epoch 574/1000, Loss: [0.00738884]\n",
      "Epoch 575/1000, Loss: [0.007372]\n",
      "Epoch 576/1000, Loss: [0.00735524]\n",
      "Epoch 577/1000, Loss: [0.00733855]\n",
      "Epoch 578/1000, Loss: [0.00732193]\n",
      "Epoch 579/1000, Loss: [0.00730538]\n",
      "Epoch 580/1000, Loss: [0.0072889]\n",
      "Epoch 581/1000, Loss: [0.00727249]\n",
      "Epoch 582/1000, Loss: [0.00725615]\n",
      "Epoch 583/1000, Loss: [0.00723988]\n",
      "Epoch 584/1000, Loss: [0.00722368]\n",
      "Epoch 585/1000, Loss: [0.00720754]\n",
      "Epoch 586/1000, Loss: [0.00719147]\n",
      "Epoch 587/1000, Loss: [0.00717547]\n",
      "Epoch 588/1000, Loss: [0.00715954]\n",
      "Epoch 589/1000, Loss: [0.00714367]\n",
      "Epoch 590/1000, Loss: [0.00712787]\n",
      "Epoch 591/1000, Loss: [0.00711214]\n",
      "Epoch 592/1000, Loss: [0.00709647]\n",
      "Epoch 593/1000, Loss: [0.00708086]\n",
      "Epoch 594/1000, Loss: [0.00706532]\n",
      "Epoch 595/1000, Loss: [0.00704985]\n",
      "Epoch 596/1000, Loss: [0.00703444]\n",
      "Epoch 597/1000, Loss: [0.00701909]\n",
      "Epoch 598/1000, Loss: [0.0070038]\n",
      "Epoch 599/1000, Loss: [0.00698858]\n",
      "Epoch 600/1000, Loss: [0.00697341]\n",
      "Epoch 601/1000, Loss: [0.00695831]\n",
      "Epoch 602/1000, Loss: [0.00694328]\n",
      "Epoch 603/1000, Loss: [0.0069283]\n",
      "Epoch 604/1000, Loss: [0.00691338]\n",
      "Epoch 605/1000, Loss: [0.00689853]\n",
      "Epoch 606/1000, Loss: [0.00688373]\n",
      "Epoch 607/1000, Loss: [0.00686899]\n",
      "Epoch 608/1000, Loss: [0.00685432]\n",
      "Epoch 609/1000, Loss: [0.0068397]\n",
      "Epoch 610/1000, Loss: [0.00682514]\n",
      "Epoch 611/1000, Loss: [0.00681064]\n",
      "Epoch 612/1000, Loss: [0.00679619]\n",
      "Epoch 613/1000, Loss: [0.00678181]\n",
      "Epoch 614/1000, Loss: [0.00676748]\n",
      "Epoch 615/1000, Loss: [0.00675321]\n",
      "Epoch 616/1000, Loss: [0.00673899]\n",
      "Epoch 617/1000, Loss: [0.00672483]\n",
      "Epoch 618/1000, Loss: [0.00671073]\n",
      "Epoch 619/1000, Loss: [0.00669668]\n",
      "Epoch 620/1000, Loss: [0.00668269]\n",
      "Epoch 621/1000, Loss: [0.00666875]\n",
      "Epoch 622/1000, Loss: [0.00665487]\n",
      "Epoch 623/1000, Loss: [0.00664104]\n",
      "Epoch 624/1000, Loss: [0.00662727]\n",
      "Epoch 625/1000, Loss: [0.00661355]\n",
      "Epoch 626/1000, Loss: [0.00659988]\n",
      "Epoch 627/1000, Loss: [0.00658627]\n",
      "Epoch 628/1000, Loss: [0.00657271]\n",
      "Epoch 629/1000, Loss: [0.0065592]\n",
      "Epoch 630/1000, Loss: [0.00654574]\n",
      "Epoch 631/1000, Loss: [0.00653234]\n",
      "Epoch 632/1000, Loss: [0.00651899]\n",
      "Epoch 633/1000, Loss: [0.00650569]\n",
      "Epoch 634/1000, Loss: [0.00649244]\n",
      "Epoch 635/1000, Loss: [0.00647924]\n",
      "Epoch 636/1000, Loss: [0.00646609]\n",
      "Epoch 637/1000, Loss: [0.00645299]\n",
      "Epoch 638/1000, Loss: [0.00643994]\n",
      "Epoch 639/1000, Loss: [0.00642694]\n",
      "Epoch 640/1000, Loss: [0.00641399]\n",
      "Epoch 641/1000, Loss: [0.00640109]\n",
      "Epoch 642/1000, Loss: [0.00638824]\n",
      "Epoch 643/1000, Loss: [0.00637544]\n",
      "Epoch 644/1000, Loss: [0.00636268]\n",
      "Epoch 645/1000, Loss: [0.00634998]\n",
      "Epoch 646/1000, Loss: [0.00633732]\n",
      "Epoch 647/1000, Loss: [0.00632471]\n",
      "Epoch 648/1000, Loss: [0.00631214]\n",
      "Epoch 649/1000, Loss: [0.00629963]\n",
      "Epoch 650/1000, Loss: [0.00628716]\n",
      "Epoch 651/1000, Loss: [0.00627473]\n",
      "Epoch 652/1000, Loss: [0.00626236]\n",
      "Epoch 653/1000, Loss: [0.00625002]\n",
      "Epoch 654/1000, Loss: [0.00623774]\n",
      "Epoch 655/1000, Loss: [0.0062255]\n",
      "Epoch 656/1000, Loss: [0.0062133]\n",
      "Epoch 657/1000, Loss: [0.00620115]\n",
      "Epoch 658/1000, Loss: [0.00618905]\n",
      "Epoch 659/1000, Loss: [0.00617699]\n",
      "Epoch 660/1000, Loss: [0.00616497]\n",
      "Epoch 661/1000, Loss: [0.006153]\n",
      "Epoch 662/1000, Loss: [0.00614107]\n",
      "Epoch 663/1000, Loss: [0.00612919]\n",
      "Epoch 664/1000, Loss: [0.00611735]\n",
      "Epoch 665/1000, Loss: [0.00610555]\n",
      "Epoch 666/1000, Loss: [0.00609379]\n",
      "Epoch 667/1000, Loss: [0.00608208]\n",
      "Epoch 668/1000, Loss: [0.00607041]\n",
      "Epoch 669/1000, Loss: [0.00605878]\n",
      "Epoch 670/1000, Loss: [0.00604719]\n",
      "Epoch 671/1000, Loss: [0.00603565]\n",
      "Epoch 672/1000, Loss: [0.00602415]\n",
      "Epoch 673/1000, Loss: [0.00601269]\n",
      "Epoch 674/1000, Loss: [0.00600127]\n",
      "Epoch 675/1000, Loss: [0.00598989]\n",
      "Epoch 676/1000, Loss: [0.00597855]\n",
      "Epoch 677/1000, Loss: [0.00596725]\n",
      "Epoch 678/1000, Loss: [0.00595599]\n",
      "Epoch 679/1000, Loss: [0.00594477]\n",
      "Epoch 680/1000, Loss: [0.00593359]\n",
      "Epoch 681/1000, Loss: [0.00592246]\n",
      "Epoch 682/1000, Loss: [0.00591136]\n",
      "Epoch 683/1000, Loss: [0.0059003]\n",
      "Epoch 684/1000, Loss: [0.00588928]\n",
      "Epoch 685/1000, Loss: [0.00587829]\n",
      "Epoch 686/1000, Loss: [0.00586735]\n",
      "Epoch 687/1000, Loss: [0.00585645]\n",
      "Epoch 688/1000, Loss: [0.00584558]\n",
      "Epoch 689/1000, Loss: [0.00583475]\n",
      "Epoch 690/1000, Loss: [0.00582396]\n",
      "Epoch 691/1000, Loss: [0.00581321]\n",
      "Epoch 692/1000, Loss: [0.00580249]\n",
      "Epoch 693/1000, Loss: [0.00579181]\n",
      "Epoch 694/1000, Loss: [0.00578117]\n",
      "Epoch 695/1000, Loss: [0.00577057]\n",
      "Epoch 696/1000, Loss: [0.00576]\n",
      "Epoch 697/1000, Loss: [0.00574947]\n",
      "Epoch 698/1000, Loss: [0.00573897]\n",
      "Epoch 699/1000, Loss: [0.00572852]\n",
      "Epoch 700/1000, Loss: [0.00571809]\n",
      "Epoch 701/1000, Loss: [0.00570771]\n",
      "Epoch 702/1000, Loss: [0.00569736]\n",
      "Epoch 703/1000, Loss: [0.00568704]\n",
      "Epoch 704/1000, Loss: [0.00567676]\n",
      "Epoch 705/1000, Loss: [0.00566651]\n",
      "Epoch 706/1000, Loss: [0.0056563]\n",
      "Epoch 707/1000, Loss: [0.00564613]\n",
      "Epoch 708/1000, Loss: [0.00563599]\n",
      "Epoch 709/1000, Loss: [0.00562588]\n",
      "Epoch 710/1000, Loss: [0.00561581]\n",
      "Epoch 711/1000, Loss: [0.00560577]\n",
      "Epoch 712/1000, Loss: [0.00559576]\n",
      "Epoch 713/1000, Loss: [0.00558579]\n",
      "Epoch 714/1000, Loss: [0.00557586]\n",
      "Epoch 715/1000, Loss: [0.00556595]\n",
      "Epoch 716/1000, Loss: [0.00555608]\n",
      "Epoch 717/1000, Loss: [0.00554624]\n",
      "Epoch 718/1000, Loss: [0.00553644]\n",
      "Epoch 719/1000, Loss: [0.00552667]\n",
      "Epoch 720/1000, Loss: [0.00551693]\n",
      "Epoch 721/1000, Loss: [0.00550722]\n",
      "Epoch 722/1000, Loss: [0.00549755]\n",
      "Epoch 723/1000, Loss: [0.0054879]\n",
      "Epoch 724/1000, Loss: [0.00547829]\n",
      "Epoch 725/1000, Loss: [0.00546871]\n",
      "Epoch 726/1000, Loss: [0.00545917]\n",
      "Epoch 727/1000, Loss: [0.00544965]\n",
      "Epoch 728/1000, Loss: [0.00544017]\n",
      "Epoch 729/1000, Loss: [0.00543071]\n",
      "Epoch 730/1000, Loss: [0.00542129]\n",
      "Epoch 731/1000, Loss: [0.0054119]\n",
      "Epoch 732/1000, Loss: [0.00540254]\n",
      "Epoch 733/1000, Loss: [0.00539321]\n",
      "Epoch 734/1000, Loss: [0.00538391]\n",
      "Epoch 735/1000, Loss: [0.00537464]\n",
      "Epoch 736/1000, Loss: [0.0053654]\n",
      "Epoch 737/1000, Loss: [0.00535619]\n",
      "Epoch 738/1000, Loss: [0.00534701]\n",
      "Epoch 739/1000, Loss: [0.00533787]\n",
      "Epoch 740/1000, Loss: [0.00532875]\n",
      "Epoch 741/1000, Loss: [0.00531966]\n",
      "Epoch 742/1000, Loss: [0.00531059]\n",
      "Epoch 743/1000, Loss: [0.00530156]\n",
      "Epoch 744/1000, Loss: [0.00529256]\n",
      "Epoch 745/1000, Loss: [0.00528359]\n",
      "Epoch 746/1000, Loss: [0.00527464]\n",
      "Epoch 747/1000, Loss: [0.00526572]\n",
      "Epoch 748/1000, Loss: [0.00525684]\n",
      "Epoch 749/1000, Loss: [0.00524798]\n",
      "Epoch 750/1000, Loss: [0.00523915]\n",
      "Epoch 751/1000, Loss: [0.00523034]\n",
      "Epoch 752/1000, Loss: [0.00522157]\n",
      "Epoch 753/1000, Loss: [0.00521282]\n",
      "Epoch 754/1000, Loss: [0.0052041]\n",
      "Epoch 755/1000, Loss: [0.00519541]\n",
      "Epoch 756/1000, Loss: [0.00518674]\n",
      "Epoch 757/1000, Loss: [0.00517811]\n",
      "Epoch 758/1000, Loss: [0.0051695]\n",
      "Epoch 759/1000, Loss: [0.00516091]\n",
      "Epoch 760/1000, Loss: [0.00515236]\n",
      "Epoch 761/1000, Loss: [0.00514383]\n",
      "Epoch 762/1000, Loss: [0.00513533]\n",
      "Epoch 763/1000, Loss: [0.00512685]\n",
      "Epoch 764/1000, Loss: [0.0051184]\n",
      "Epoch 765/1000, Loss: [0.00510998]\n",
      "Epoch 766/1000, Loss: [0.00510158]\n",
      "Epoch 767/1000, Loss: [0.00509321]\n",
      "Epoch 768/1000, Loss: [0.00508487]\n",
      "Epoch 769/1000, Loss: [0.00507655]\n",
      "Epoch 770/1000, Loss: [0.00506825]\n",
      "Epoch 771/1000, Loss: [0.00505999]\n",
      "Epoch 772/1000, Loss: [0.00505175]\n",
      "Epoch 773/1000, Loss: [0.00504353]\n",
      "Epoch 774/1000, Loss: [0.00503534]\n",
      "Epoch 775/1000, Loss: [0.00502717]\n",
      "Epoch 776/1000, Loss: [0.00501903]\n",
      "Epoch 777/1000, Loss: [0.00501092]\n",
      "Epoch 778/1000, Loss: [0.00500282]\n",
      "Epoch 779/1000, Loss: [0.00499476]\n",
      "Epoch 780/1000, Loss: [0.00498672]\n",
      "Epoch 781/1000, Loss: [0.0049787]\n",
      "Epoch 782/1000, Loss: [0.00497071]\n",
      "Epoch 783/1000, Loss: [0.00496274]\n",
      "Epoch 784/1000, Loss: [0.00495479]\n",
      "Epoch 785/1000, Loss: [0.00494687]\n",
      "Epoch 786/1000, Loss: [0.00493898]\n",
      "Epoch 787/1000, Loss: [0.0049311]\n",
      "Epoch 788/1000, Loss: [0.00492326]\n",
      "Epoch 789/1000, Loss: [0.00491543]\n",
      "Epoch 790/1000, Loss: [0.00490763]\n",
      "Epoch 791/1000, Loss: [0.00489985]\n",
      "Epoch 792/1000, Loss: [0.0048921]\n",
      "Epoch 793/1000, Loss: [0.00488437]\n",
      "Epoch 794/1000, Loss: [0.00487666]\n",
      "Epoch 795/1000, Loss: [0.00486897]\n",
      "Epoch 796/1000, Loss: [0.00486131]\n",
      "Epoch 797/1000, Loss: [0.00485367]\n",
      "Epoch 798/1000, Loss: [0.00484605]\n",
      "Epoch 799/1000, Loss: [0.00483846]\n",
      "Epoch 800/1000, Loss: [0.00483089]\n",
      "Epoch 801/1000, Loss: [0.00482334]\n",
      "Epoch 802/1000, Loss: [0.00481581]\n",
      "Epoch 803/1000, Loss: [0.00480831]\n",
      "Epoch 804/1000, Loss: [0.00480083]\n",
      "Epoch 805/1000, Loss: [0.00479337]\n",
      "Epoch 806/1000, Loss: [0.00478593]\n",
      "Epoch 807/1000, Loss: [0.00477851]\n",
      "Epoch 808/1000, Loss: [0.00477112]\n",
      "Epoch 809/1000, Loss: [0.00476374]\n",
      "Epoch 810/1000, Loss: [0.00475639]\n",
      "Epoch 811/1000, Loss: [0.00474906]\n",
      "Epoch 812/1000, Loss: [0.00474175]\n",
      "Epoch 813/1000, Loss: [0.00473447]\n",
      "Epoch 814/1000, Loss: [0.0047272]\n",
      "Epoch 815/1000, Loss: [0.00471996]\n",
      "Epoch 816/1000, Loss: [0.00471273]\n",
      "Epoch 817/1000, Loss: [0.00470553]\n",
      "Epoch 818/1000, Loss: [0.00469835]\n",
      "Epoch 819/1000, Loss: [0.00469119]\n",
      "Epoch 820/1000, Loss: [0.00468405]\n",
      "Epoch 821/1000, Loss: [0.00467693]\n",
      "Epoch 822/1000, Loss: [0.00466983]\n",
      "Epoch 823/1000, Loss: [0.00466275]\n",
      "Epoch 824/1000, Loss: [0.00465569]\n",
      "Epoch 825/1000, Loss: [0.00464865]\n",
      "Epoch 826/1000, Loss: [0.00464164]\n",
      "Epoch 827/1000, Loss: [0.00463464]\n",
      "Epoch 828/1000, Loss: [0.00462766]\n",
      "Epoch 829/1000, Loss: [0.0046207]\n",
      "Epoch 830/1000, Loss: [0.00461376]\n",
      "Epoch 831/1000, Loss: [0.00460684]\n",
      "Epoch 832/1000, Loss: [0.00459995]\n",
      "Epoch 833/1000, Loss: [0.00459307]\n",
      "Epoch 834/1000, Loss: [0.00458621]\n",
      "Epoch 835/1000, Loss: [0.00457937]\n",
      "Epoch 836/1000, Loss: [0.00457255]\n",
      "Epoch 837/1000, Loss: [0.00456575]\n",
      "Epoch 838/1000, Loss: [0.00455896]\n",
      "Epoch 839/1000, Loss: [0.0045522]\n",
      "Epoch 840/1000, Loss: [0.00454546]\n",
      "Epoch 841/1000, Loss: [0.00453873]\n",
      "Epoch 842/1000, Loss: [0.00453202]\n",
      "Epoch 843/1000, Loss: [0.00452534]\n",
      "Epoch 844/1000, Loss: [0.00451867]\n",
      "Epoch 845/1000, Loss: [0.00451202]\n",
      "Epoch 846/1000, Loss: [0.00450539]\n",
      "Epoch 847/1000, Loss: [0.00449877]\n",
      "Epoch 848/1000, Loss: [0.00449218]\n",
      "Epoch 849/1000, Loss: [0.0044856]\n",
      "Epoch 850/1000, Loss: [0.00447904]\n",
      "Epoch 851/1000, Loss: [0.0044725]\n",
      "Epoch 852/1000, Loss: [0.00446598]\n",
      "Epoch 853/1000, Loss: [0.00445948]\n",
      "Epoch 854/1000, Loss: [0.00445299]\n",
      "Epoch 855/1000, Loss: [0.00444652]\n",
      "Epoch 856/1000, Loss: [0.00444007]\n",
      "Epoch 857/1000, Loss: [0.00443364]\n",
      "Epoch 858/1000, Loss: [0.00442723]\n",
      "Epoch 859/1000, Loss: [0.00442083]\n",
      "Epoch 860/1000, Loss: [0.00441445]\n",
      "Epoch 861/1000, Loss: [0.00440809]\n",
      "Epoch 862/1000, Loss: [0.00440174]\n",
      "Epoch 863/1000, Loss: [0.00439542]\n",
      "Epoch 864/1000, Loss: [0.00438911]\n",
      "Epoch 865/1000, Loss: [0.00438281]\n",
      "Epoch 866/1000, Loss: [0.00437654]\n",
      "Epoch 867/1000, Loss: [0.00437028]\n",
      "Epoch 868/1000, Loss: [0.00436404]\n",
      "Epoch 869/1000, Loss: [0.00435781]\n",
      "Epoch 870/1000, Loss: [0.00435161]\n",
      "Epoch 871/1000, Loss: [0.00434542]\n",
      "Epoch 872/1000, Loss: [0.00433924]\n",
      "Epoch 873/1000, Loss: [0.00433308]\n",
      "Epoch 874/1000, Loss: [0.00432694]\n",
      "Epoch 875/1000, Loss: [0.00432082]\n",
      "Epoch 876/1000, Loss: [0.00431471]\n",
      "Epoch 877/1000, Loss: [0.00430862]\n",
      "Epoch 878/1000, Loss: [0.00430254]\n",
      "Epoch 879/1000, Loss: [0.00429648]\n",
      "Epoch 880/1000, Loss: [0.00429044]\n",
      "Epoch 881/1000, Loss: [0.00428441]\n",
      "Epoch 882/1000, Loss: [0.0042784]\n",
      "Epoch 883/1000, Loss: [0.00427241]\n",
      "Epoch 884/1000, Loss: [0.00426643]\n",
      "Epoch 885/1000, Loss: [0.00426047]\n",
      "Epoch 886/1000, Loss: [0.00425452]\n",
      "Epoch 887/1000, Loss: [0.00424859]\n",
      "Epoch 888/1000, Loss: [0.00424267]\n",
      "Epoch 889/1000, Loss: [0.00423677]\n",
      "Epoch 890/1000, Loss: [0.00423089]\n",
      "Epoch 891/1000, Loss: [0.00422502]\n",
      "Epoch 892/1000, Loss: [0.00421917]\n",
      "Epoch 893/1000, Loss: [0.00421333]\n",
      "Epoch 894/1000, Loss: [0.00420751]\n",
      "Epoch 895/1000, Loss: [0.0042017]\n",
      "Epoch 896/1000, Loss: [0.00419591]\n",
      "Epoch 897/1000, Loss: [0.00419013]\n",
      "Epoch 898/1000, Loss: [0.00418437]\n",
      "Epoch 899/1000, Loss: [0.00417862]\n",
      "Epoch 900/1000, Loss: [0.00417289]\n",
      "Epoch 901/1000, Loss: [0.00416718]\n",
      "Epoch 902/1000, Loss: [0.00416147]\n",
      "Epoch 903/1000, Loss: [0.00415579]\n",
      "Epoch 904/1000, Loss: [0.00415012]\n",
      "Epoch 905/1000, Loss: [0.00414446]\n",
      "Epoch 906/1000, Loss: [0.00413882]\n",
      "Epoch 907/1000, Loss: [0.00413319]\n",
      "Epoch 908/1000, Loss: [0.00412757]\n",
      "Epoch 909/1000, Loss: [0.00412197]\n",
      "Epoch 910/1000, Loss: [0.00411639]\n",
      "Epoch 911/1000, Loss: [0.00411082]\n",
      "Epoch 912/1000, Loss: [0.00410526]\n",
      "Epoch 913/1000, Loss: [0.00409972]\n",
      "Epoch 914/1000, Loss: [0.00409419]\n",
      "Epoch 915/1000, Loss: [0.00408868]\n",
      "Epoch 916/1000, Loss: [0.00408318]\n",
      "Epoch 917/1000, Loss: [0.0040777]\n",
      "Epoch 918/1000, Loss: [0.00407222]\n",
      "Epoch 919/1000, Loss: [0.00406677]\n",
      "Epoch 920/1000, Loss: [0.00406132]\n",
      "Epoch 921/1000, Loss: [0.0040559]\n",
      "Epoch 922/1000, Loss: [0.00405048]\n",
      "Epoch 923/1000, Loss: [0.00404508]\n",
      "Epoch 924/1000, Loss: [0.00403969]\n",
      "Epoch 925/1000, Loss: [0.00403431]\n",
      "Epoch 926/1000, Loss: [0.00402895]\n",
      "Epoch 927/1000, Loss: [0.00402361]\n",
      "Epoch 928/1000, Loss: [0.00401827]\n",
      "Epoch 929/1000, Loss: [0.00401295]\n",
      "Epoch 930/1000, Loss: [0.00400765]\n",
      "Epoch 931/1000, Loss: [0.00400235]\n",
      "Epoch 932/1000, Loss: [0.00399707]\n",
      "Epoch 933/1000, Loss: [0.0039918]\n",
      "Epoch 934/1000, Loss: [0.00398655]\n",
      "Epoch 935/1000, Loss: [0.00398131]\n",
      "Epoch 936/1000, Loss: [0.00397608]\n",
      "Epoch 937/1000, Loss: [0.00397087]\n",
      "Epoch 938/1000, Loss: [0.00396567]\n",
      "Epoch 939/1000, Loss: [0.00396048]\n",
      "Epoch 940/1000, Loss: [0.0039553]\n",
      "Epoch 941/1000, Loss: [0.00395014]\n",
      "Epoch 942/1000, Loss: [0.00394499]\n",
      "Epoch 943/1000, Loss: [0.00393985]\n",
      "Epoch 944/1000, Loss: [0.00393473]\n",
      "Epoch 945/1000, Loss: [0.00392961]\n",
      "Epoch 946/1000, Loss: [0.00392452]\n",
      "Epoch 947/1000, Loss: [0.00391943]\n",
      "Epoch 948/1000, Loss: [0.00391435]\n",
      "Epoch 949/1000, Loss: [0.00390929]\n",
      "Epoch 950/1000, Loss: [0.00390424]\n",
      "Epoch 951/1000, Loss: [0.00389921]\n",
      "Epoch 952/1000, Loss: [0.00389418]\n",
      "Epoch 953/1000, Loss: [0.00388917]\n",
      "Epoch 954/1000, Loss: [0.00388417]\n",
      "Epoch 955/1000, Loss: [0.00387918]\n",
      "Epoch 956/1000, Loss: [0.00387421]\n",
      "Epoch 957/1000, Loss: [0.00386924]\n",
      "Epoch 958/1000, Loss: [0.00386429]\n",
      "Epoch 959/1000, Loss: [0.00385935]\n",
      "Epoch 960/1000, Loss: [0.00385443]\n",
      "Epoch 961/1000, Loss: [0.00384951]\n",
      "Epoch 962/1000, Loss: [0.00384461]\n",
      "Epoch 963/1000, Loss: [0.00383972]\n",
      "Epoch 964/1000, Loss: [0.00383484]\n",
      "Epoch 965/1000, Loss: [0.00382997]\n",
      "Epoch 966/1000, Loss: [0.00382512]\n",
      "Epoch 967/1000, Loss: [0.00382027]\n",
      "Epoch 968/1000, Loss: [0.00381544]\n",
      "Epoch 969/1000, Loss: [0.00381062]\n",
      "Epoch 970/1000, Loss: [0.00380581]\n",
      "Epoch 971/1000, Loss: [0.00380101]\n",
      "Epoch 972/1000, Loss: [0.00379623]\n",
      "Epoch 973/1000, Loss: [0.00379145]\n",
      "Epoch 974/1000, Loss: [0.00378669]\n",
      "Epoch 975/1000, Loss: [0.00378194]\n",
      "Epoch 976/1000, Loss: [0.0037772]\n",
      "Epoch 977/1000, Loss: [0.00377247]\n",
      "Epoch 978/1000, Loss: [0.00376775]\n",
      "Epoch 979/1000, Loss: [0.00376304]\n",
      "Epoch 980/1000, Loss: [0.00375835]\n",
      "Epoch 981/1000, Loss: [0.00375366]\n",
      "Epoch 982/1000, Loss: [0.00374899]\n",
      "Epoch 983/1000, Loss: [0.00374433]\n",
      "Epoch 984/1000, Loss: [0.00373968]\n",
      "Epoch 985/1000, Loss: [0.00373504]\n",
      "Epoch 986/1000, Loss: [0.00373041]\n",
      "Epoch 987/1000, Loss: [0.00372579]\n",
      "Epoch 988/1000, Loss: [0.00372118]\n",
      "Epoch 989/1000, Loss: [0.00371658]\n",
      "Epoch 990/1000, Loss: [0.003712]\n",
      "Epoch 991/1000, Loss: [0.00370742]\n",
      "Epoch 992/1000, Loss: [0.00370286]\n",
      "Epoch 993/1000, Loss: [0.00369831]\n",
      "Epoch 994/1000, Loss: [0.00369376]\n",
      "Epoch 995/1000, Loss: [0.00368923]\n",
      "Epoch 996/1000, Loss: [0.00368471]\n",
      "Epoch 997/1000, Loss: [0.0036802]\n",
      "Epoch 998/1000, Loss: [0.0036757]\n",
      "Epoch 999/1000, Loss: [0.00367121]\n",
      "Epoch 1000/1000, Loss: [0.00366673]\n",
      "Sentimento positivo!\n"
     ]
    }
   ],
   "source": [
    "import numpy as np\n",
    "\n",
    "# Função de ativação sigmoide\n",
    "def sigmoid(x):\n",
    "    return 1 / (1 + np.exp(-x))\n",
    "\n",
    "# Dados de entrada (sequência de palavras representadas como números)\n",
    "data = np.array([\n",
    "    [0, 1, 2, 3],  # Exemplo 1: \"I love this movie\"\n",
    "    [4, 5, 6, 7]   # Exemplo 2: \"This movie is awful\"\n",
    "])\n",
    "\n",
    "# Saídas desejadas (1 para positivo, 0 para negativo)\n",
    "target = np.array([1, 0])\n",
    "\n",
    "# Tamanho do vocabulário\n",
    "vocab_size = 8  # Neste exemplo, há 8 palavras diferentes no vocabulário\n",
    "\n",
    "# Tamanho da camada de entrada, camada oculta e camada de saída\n",
    "input_size = vocab_size\n",
    "hidden_size = 16\n",
    "output_size = 1\n",
    "\n",
    "# Inicialização aleatória dos pesos com média zero\n",
    "np.random.seed(42)\n",
    "weights_input_hidden = np.random.uniform(size=(input_size, hidden_size))\n",
    "weights_hidden_output = np.random.uniform(size=(hidden_size, output_size))\n",
    "\n",
    "# Taxa de aprendizado\n",
    "learning_rate = 0.1\n",
    "\n",
    "# Número de épocas de treinamento\n",
    "epochs = 1000\n",
    "\n",
    "# Treinamento da RNN\n",
    "for epoch in range(epochs):\n",
    "    total_loss = 0\n",
    "    \n",
    "    # Forward e Backpropagation para cada exemplo de treinamento\n",
    "    for i in range(len(data)):\n",
    "        # Forward propagation\n",
    "        input_word = np.zeros((vocab_size, 1))\n",
    "        input_word[data[i]] = 1\n",
    "        \n",
    "        # Passo forward da RNN\n",
    "        hidden_state = sigmoid(np.dot(weights_input_hidden.T, input_word))\n",
    "        output = sigmoid(np.dot(weights_hidden_output.T, hidden_state))\n",
    "        \n",
    "        # Calcular a perda (loss) para esta etapa\n",
    "        loss = -(target[i] * np.log(output) + (1 - target[i]) * np.log(1 - output))\n",
    "        total_loss += loss\n",
    "        \n",
    "        # Backpropagation\n",
    "        delta_output = output - target[i]\n",
    "        delta_hidden = np.dot(weights_hidden_output, delta_output) * (hidden_state * (1 - hidden_state))\n",
    "        \n",
    "        # Atualizar os pesos usando o método do gradiente descendente\n",
    "        weights_hidden_output -= learning_rate * np.dot(hidden_state, delta_output)\n",
    "        weights_input_hidden -= learning_rate * np.dot(input_word, delta_hidden.T)\n",
    "    \n",
    "    # Calcular a média das perdas para este epoch\n",
    "    average_loss = total_loss / len(data)\n",
    "    print(f'Epoch {epoch + 1}/{epochs}, Loss: {average_loss[0]}')\n",
    "\n",
    "# Teste da RNN com uma nova sequência de palavras\n",
    "test_input = np.array([0, 1, 2, 3])  # \"I love this movie\"\n",
    "input_word = np.zeros((vocab_size, 1))\n",
    "input_word[test_input] = 1\n",
    "hidden_state = sigmoid(np.dot(weights_input_hidden.T, input_word))\n",
    "output = sigmoid(np.dot(weights_hidden_output.T, hidden_state))\n",
    "\n",
    "# Previsão da RNN\n",
    "predicted_sentiment = 1 if output > 0.5 else 0\n",
    "\n",
    "if predicted_sentiment == 1:\n",
    "    print(\"Sentimento positivo!\")\n",
    "else:\n",
    "    print(\"Sentimento negativo!\")\n"
   ]
  },
  {
   "cell_type": "code",
   "execution_count": null,
   "metadata": {},
   "outputs": [],
   "source": []
  },
  {
   "cell_type": "code",
   "execution_count": null,
   "metadata": {},
   "outputs": [],
   "source": [
    "import numpy as np\n",
    "\n",
    "# Função de ativação sigmoide\n",
    "def sigmoid(x):\n",
    "    return 1 / (1 + np.exp(-x))\n",
    "\n",
    "# Dados de entrada (sequência de palavras representadas como números)\n",
    "data = np.array([\n",
    "    [0, 1, 2, 3],  # Exemplo 1: \"I love deep learning\"\n",
    "    [4, 5, 2, 6],  # Exemplo 2: \"AI is the future\"\n",
    "    [7, 8, 9, 3]   # Exemplo 3: \"Data science is amazing\"\n",
    "])\n",
    "\n",
    "# Saídas desejadas (próxima palavra na sequência)\n",
    "target = np.array([\n",
    "    [4, 5, 2, 6],  # Próxima palavra após \"I love deep learning\" é \"AI is the future\"\n",
    "    [7, 8, 9, 3],  # Próxima palavra após \"AI is the future\" é \"Data science is amazing\"\n",
    "    [0, 1, 2, 3]   # Próxima palavra após \"Data science is amazing\" é \"I love deep learning\"\n",
    "])\n",
    "\n",
    "# Tamanho do vocabulário\n",
    "vocab_size = 10  # Neste exemplo, há 10 palavras diferentes no vocabulário\n",
    "\n",
    "# Tamanho da camada de entrada, camada oculta e camada de saída\n",
    "input_size = vocab_size\n",
    "hidden_size = 10\n",
    "output_size = vocab_size\n",
    "\n",
    "# Inicialização aleatória dos pesos com média zero\n",
    "np.random.seed(42)\n",
    "weights_input_hidden = np.random.uniform(size=(input_size, hidden_size))\n",
    "weights_hidden_output = np.random.uniform(size=(hidden_size, output_size))\n",
    "\n",
    "# Número de épocas de treinamento\n",
    "epochs = 100\n",
    "\n",
    "# Taxa de aprendizado\n",
    "learning_rate = 0.1\n",
    "\n",
    "# Treinamento da RNN\n",
    "for epoch in range(epochs):\n",
    "    total_loss = 0\n",
    "    \n",
    "    # Forward e Backpropagation para cada exemplo de treinamento\n",
    "    for i in range(len(data)):\n",
    "        # Lista para armazenar os estados ocultos em cada passo de tempo\n",
    "        hidden_states = []\n",
    "        loss = 0\n",
    "        \n",
    "        # Forward propagation\n",
    "        for t in range(len(data[i])):\n",
    "            # Entrada one-hot\n",
    "            input_word = np.zeros((vocab_size, 1))\n",
    "            input_word[data[i][t]] = 1\n",
    "            \n",
    "            # Passo forward da RNN\n",
    "            hidden_state = sigmoid(np.dot(weights_input_hidden.T, input_word))\n",
    "            output_word = np.dot(weights_hidden_output.T, hidden_state)\n",
    "            \n",
    "            # Armazenar o estado oculto para uso futuro (no passo de tempo seguinte)\n",
    "            hidden_states.append(hidden_state)\n",
    "            \n",
    "            # Calcular a perda (loss) para esta etapa\n",
    "            target_word = np.zeros((vocab_size, 1))\n",
    "            target_word[target[i][t]] = 1\n",
    "            loss += np.mean((output_word - target_word) ** 2) / 2\n",
    "        \n",
    "        # Backpropagation through time (BPTT)\n",
    "        delta_output = output_word - target_word\n",
    "        delta_hidden = np.dot(weights_hidden_output, delta_output) * (hidden_states[-1] * (1 - hidden_states[-1]))\n",
    "        \n",
    "        # Atualizar os pesos usando o método do gradiente descendente\n",
    "        for t in range(len(data[i])):\n",
    "            weights_hidden_output -= learning_rate * np.dot(hidden_states[t], delta_output.T)\n",
    "            weights_input_hidden -= learning_rate * np.dot(input_word, delta_hidden.T)\n",
    "        \n",
    "        total_loss += loss / len(data)\n",
    "    \n",
    "    # Calcular a média das perdas para este epoch\n",
    "    average_loss = total_loss / len(data)\n",
    "    print(f'Epoch {epoch + 1}/{epochs}, Loss: {average_loss:.4f}')\n",
    "\n",
    "# Teste da RNN com uma nova sequência de palavras\n",
    "test_input = np.array([0, 1, 2, 3])  # \"I love deep learning\"\n",
    "predicted_output_sequence = []\n",
    "\n",
    "# Gerar palavras uma de cada vez usando a RNN treinada\n",
    "for _ in range(len(test_input)):\n",
    "    input_word = np.zeros((vocab_size, 1))\n",
    "    input_word[test_input[_]] = 1\n",
    "    \n",
    "    hidden_state = sigmoid(np.dot(weights_input_hidden.T, input_word))\n",
    "    output_word = np.dot(weights_hidden_output.T, hidden_state)\n",
    "    \n",
    "    # Encontrar a próxima palavra como a palavra com a maior probabilidade\n",
    "    predicted_word_index = np.argmax(output_word)\n",
    "    predicted_output_sequence.append(predicted_word_index)\n",
    "\n",
    "# Imprimir a sequência de palavras prevista pela RNN\n",
    "print(\"Sequência de palavras prevista pela RNN:\")\n",
    "print(predicted_output_sequence)\n"
   ]
  },
  {
   "cell_type": "code",
   "execution_count": null,
   "metadata": {},
   "outputs": [],
   "source": []
  },
  {
   "cell_type": "code",
   "execution_count": null,
   "metadata": {},
   "outputs": [],
   "source": []
  },
  {
   "cell_type": "code",
   "execution_count": null,
   "metadata": {},
   "outputs": [],
   "source": []
  },
  {
   "cell_type": "code",
   "execution_count": 48,
   "metadata": {},
   "outputs": [
    {
     "name": "stdout",
     "output_type": "stream",
     "text": [
      "Collecting networkx\n",
      "  Downloading networkx-3.1-py3-none-any.whl (2.1 MB)\n",
      "\u001b[2K     \u001b[90m━━━━━━━━━━━━━━━━━━━━━━━━━━━━━━━━━━━━━━━━\u001b[0m \u001b[32m2.1/2.1 MB\u001b[0m \u001b[31m28.5 MB/s\u001b[0m eta \u001b[36m0:00:00\u001b[0m00:01\u001b[0m00:01\u001b[0m\n",
      "\u001b[?25hInstalling collected packages: networkx\n",
      "Successfully installed networkx-3.1\n",
      "Note: you may need to restart the kernel to use updated packages.\n"
     ]
    }
   ],
   "source": [
    "pip install networkx\n"
   ]
  },
  {
   "cell_type": "code",
   "execution_count": null,
   "metadata": {},
   "outputs": [],
   "source": []
  },
  {
   "cell_type": "code",
   "execution_count": 80,
   "metadata": {},
   "outputs": [],
   "source": [
    "import numpy as np\n",
    "from dados import train_data, test_data\n",
    "\n",
    "\n",
    "\n"
   ]
  },
  {
   "cell_type": "code",
   "execution_count": 97,
   "metadata": {},
   "outputs": [],
   "source": [
    "import numpy as np\n",
    "import random\n",
    "from RNN_class import RNN_VANILA"
   ]
  },
  {
   "cell_type": "code",
   "execution_count": 81,
   "metadata": {},
   "outputs": [],
   "source": [
    "items = list(train_data.items())\n",
    "random.shuffle(items)\n",
    "x_train, y_train = [],[]\n",
    "for x, y in items:\n",
    "    inputs = criando_as_entradas(x)\n",
    "    target = int(y)\n",
    "    x_train.append(inputs)\n",
    "    y_train.append(target)"
   ]
  },
  {
   "cell_type": "code",
   "execution_count": 98,
   "metadata": {},
   "outputs": [
    {
     "ename": "NameError",
     "evalue": "name 'hidden_size' is not defined",
     "output_type": "error",
     "traceback": [
      "\u001b[0;31m---------------------------------------------------------------------------\u001b[0m",
      "\u001b[0;31mNameError\u001b[0m                                 Traceback (most recent call last)",
      "\u001b[1;32m/Users/natorjunior/Desktop/DOUTORADO/deep/LSTM/test.ipynb Célula 20\u001b[0m line \u001b[0;36m2\n\u001b[1;32m      <a href='vscode-notebook-cell:/Users/natorjunior/Desktop/DOUTORADO/deep/LSTM/test.ipynb#X25sZmlsZQ%3D%3D?line=0'>1</a>\u001b[0m tamanho_da_entrada, tamanho_da_saida, tamaho_da_camada_oculta\u001b[39m=\u001b[39m\u001b[39m21\u001b[39m,\u001b[39m1\u001b[39m,\u001b[39m64\u001b[39m\n\u001b[0;32m----> <a href='vscode-notebook-cell:/Users/natorjunior/Desktop/DOUTORADO/deep/LSTM/test.ipynb#X25sZmlsZQ%3D%3D?line=1'>2</a>\u001b[0m model \u001b[39m=\u001b[39m RNN_VANILA(tamanho_da_entrada, tamanho_da_saida, tamaho_da_camada_oculta)\n",
      "File \u001b[0;32m~/Desktop/DOUTORADO/deep/LSTM/RNN_class.py:8\u001b[0m, in \u001b[0;36mRNN_VANILA.__init__\u001b[0;34m(self, tamanho_da_entrada, tamanho_da_saida, tamaho_da_camada_oculta)\u001b[0m\n\u001b[1;32m      6\u001b[0m \u001b[39mdef\u001b[39;00m \u001b[39m__init__\u001b[39m(\u001b[39mself\u001b[39m, tamanho_da_entrada, tamanho_da_saida, tamaho_da_camada_oculta\u001b[39m=\u001b[39m\u001b[39m64\u001b[39m):\n\u001b[1;32m      7\u001b[0m     \u001b[39m# Pesos\u001b[39;00m\n\u001b[0;32m----> 8\u001b[0m     \u001b[39mself\u001b[39m\u001b[39m.\u001b[39mWhh \u001b[39m=\u001b[39m randn(tamaho_da_camada_oculta, hidden_size)\n\u001b[1;32m      9\u001b[0m     \u001b[39mself\u001b[39m\u001b[39m.\u001b[39mWxh \u001b[39m=\u001b[39m randn(tamaho_da_camada_oculta, tamanho_da_entrada)\n\u001b[1;32m     10\u001b[0m     \u001b[39mself\u001b[39m\u001b[39m.\u001b[39mWhy \u001b[39m=\u001b[39m randn(tamanho_da_saida, tamaho_da_camada_oculta)\n",
      "\u001b[0;31mNameError\u001b[0m: name 'hidden_size' is not defined"
     ]
    }
   ],
   "source": [
    "tamanho_da_entrada, tamanho_da_saida, tamaho_da_camada_oculta=21,1,64\n",
    "model = RNN_VANILA(tamanho_da_entrada, tamanho_da_saida, tamaho_da_camada_oculta)"
   ]
  },
  {
   "cell_type": "code",
   "execution_count": null,
   "metadata": {},
   "outputs": [],
   "source": []
  }
 ],
 "metadata": {
  "kernelspec": {
   "display_name": "tensorflow",
   "language": "python",
   "name": "python3"
  },
  "language_info": {
   "codemirror_mode": {
    "name": "ipython",
    "version": 3
   },
   "file_extension": ".py",
   "mimetype": "text/x-python",
   "name": "python",
   "nbconvert_exporter": "python",
   "pygments_lexer": "ipython3",
   "version": "3.9.15"
  },
  "orig_nbformat": 4
 },
 "nbformat": 4,
 "nbformat_minor": 2
}
